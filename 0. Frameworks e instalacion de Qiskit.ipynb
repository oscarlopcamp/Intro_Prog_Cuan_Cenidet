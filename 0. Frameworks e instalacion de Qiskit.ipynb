{
 "cells": [
  {
   "cell_type": "markdown",
   "id": "f74ddb89-92ba-462f-805f-50519423dbe8",
   "metadata": {
    "id": "f74ddb89-92ba-462f-805f-50519423dbe8"
   },
   "source": [
    "<center>\n",
    "\n",
    "# Introduccion a Programación Cuántica – CENIDET \n",
    "\n",
    "## 🧠 Frameworks e instalacion de Qiskit 🧠\n",
    "Autor: **Oscar Alejandro López Campero**  \n",
    "Maestría en Ciencias de la Computación – Línea de Ingeniería de Software  \n",
    "Agosto 2025\n",
    "\n",
    "---\n",
    "\n",
    "</center>\n"
   ]
  },
  {
   "cell_type": "markdown",
   "id": "bfd1603a-61a3-4eef-8d13-c15dd3485d69",
   "metadata": {
    "id": "bfd1603a-61a3-4eef-8d13-c15dd3485d69",
    "jp-MarkdownHeadingCollapsed": true
   },
   "source": [
    "## 🎯 Objetivo\n",
    "\n",
    "Este documento tiene como propósito introducir a los estudiantes en el uso práctico de herramientas de programación cuántica. Se abordarán los principales frameworks y plataformas con acceso a hardware cuántico, con énfasis en la instalación y el uso de Qiskit.  "
   ]
  },
  {
   "cell_type": "markdown",
   "id": "8f60650d-c7bb-4701-843a-9ccf13a76bd7",
   "metadata": {
    "id": "8f60650d-c7bb-4701-843a-9ccf13a76bd7"
   },
   "source": [
    "## 📚 Contenido del Módulo: Programación Cuántica\n",
    "\n",
    "Este módulo se enfoca en introducir al estudiante en el uso de frameworks, plataformas y herramientas para comenzar a programar circuitos cuánticos básicos.\n",
    "\n",
    "---\n",
    "\n",
    "# 🧾 Temario\n",
    "\n",
    "1️⃣ **Frameworks de programación cuántica**  \n",
    "2️⃣ **Plataformas con acceso a hardware cuántico**  \n",
    "3️⃣ **Instalación y configuración del entorno**  \n",
    "\n",
    "\n"
   ]
  },
  {
   "cell_type": "markdown",
   "id": "e1328dc4-be26-4faf-883e-24b72f9f23d8",
   "metadata": {},
   "source": [
    "# 🧠 1.0 Frameworks de Programación Cuántica\n"
   ]
  },
  {
   "cell_type": "markdown",
   "id": "fdab49ef-f6eb-4797-8909-ad3a7303c105",
   "metadata": {
    "id": "fdab49ef-f6eb-4797-8909-ad3a7303c105"
   },
   "source": [
    "### 🔷 1.1. Qiskit\n",
    "\n",
    "**Desarrollado por:** IBM Quantum  \n",
    "**Lenguaje:** Python  \n",
    "**Descripción:** Qiskit es un SDK de código abierto para computación cuántica que permite escribir, simular y ejecutar programas cuánticos en hardware real y simuladores. Es uno de los frameworks más utilizados en educación, investigación y desarrollo profesional.\n",
    "\n",
    "- Página principal: [https://www.ibm.com/quantum/qiskit](https://www.ibm.com/quantum/qiskit)  \n",
    "- Tutoriales: [learning.quantum.ibm.com](https://learning.quantum.ibm.com/)  \n",
    "- API: [docs.quantum.ibm.com](https://docs.quantum.ibm.com/api/qiskit)  \n",
    "- Repositorio: [github.com/Qiskit](https://github.com/Qiskit)\n",
    "\n",
    "---\n",
    "\n",
    "### 📦 Instalación\n",
    "```bash\n",
    "pip install qiskit\n",
    "pip install qiskit[visualization]\n",
    "\n",
    "🌐 **Instalación opcional (solo si se desea usar hardware real de IBM):**\n",
    "\n",
    "pip install qiskit-ibm-runtime\n",
    "\n",
    "📝 Nota\n",
    "    - Uno de los frameworks más completos y populares.\n",
    "    - Permite construir y simular circuitos cuánticos, y ejecutar código en hardware real de IBM.\n",
    "    - Posee una gran cantidad de recursos educativos y comunidad activa.\n",
    "    - Instalación recomendada con soporte visual (`qiskit[visualization]`).\n",
    "    - El paquete `qiskit-ibm-runtime` es opcional y solo necesario para ejecutar en la nube de IBM.\n"
   ]
  },
  {
   "cell_type": "markdown",
   "id": "4ca6f983-b1cf-4e64-9929-889d0328edfb",
   "metadata": {
    "id": "4ca6f983-b1cf-4e64-9929-889d0328edfb"
   },
   "source": [
    "### 🔷 1.2. Cirq\n",
    "\n",
    "**Desarrollado por:** Google Quantum AI  \n",
    "**Lenguaje:** Python  \n",
    "**Descripción:** Cirq es un framework para la creación, simulación y ejecución de circuitos cuánticos, orientado especialmente al diseño de algoritmos cuánticos que puedan ejecutarse en hardware real o simuladores.  \n",
    "Está enfocado en experimentación avanzada y en el control detallado del circuito cuántico, con integración con procesadores de Google y otras plataformas.\n",
    "\n",
    "- Página principal: [https://quantumai.google/cirq](https://quantumai.google/cirq)  \n",
    "- Tutoriales: [Start Guide](https://quantumai.google/cirq/start/start)  \n",
    "- API: [Cirq API](https://quantumai.google/reference/python/cirq/all_symbols)  \n",
    "- Repositorio: [github.com/quantumlib/Cirq](https://github.com/quantumlib/Cirq)\n",
    "\n",
    "---\n",
    "\n",
    "### 📦 Instalación\n",
    "\n",
    "```bash\n",
    "pip install cirq\n",
    "\n",
    "📝 Nota  \n",
    "    - Desarrollado por Google, con enfoque en investigación académica.  \n",
    "    - Ofrece control detallado sobre las operaciones cuánticas a bajo nivel.  \n",
    "    - Ideal para quienes desean experimentar con algoritmos cuánticos personalizados.  \n",
    "    - No permite acceso directo al hardware de Google; su uso está restringido a colaboraciones.\n",
    "\n"
   ]
  },
  {
   "cell_type": "markdown",
   "id": "e2c0977e-126b-418e-b5a8-4369a306f489",
   "metadata": {
    "id": "e2c0977e-126b-418e-b5a8-4369a306f489"
   },
   "source": [
    "### 🔷 1.3. PennyLane\n",
    "\n",
    "**Desarrollado por:** Xanadu  \n",
    "**Lenguaje:** Python  \n",
    "**Descripción:** PennyLane es un framework diseñado para **computación cuántica híbrida**, es decir, combina computación cuántica y clásica en flujos de trabajo conjuntos.  \n",
    "Es especialmente útil en el desarrollo de algoritmos de **machine learning cuántico** y se integra fácilmente con bibliotecas como PyTorch, TensorFlow y JAX.\n",
    "\n",
    "- Página principal: [https://pennylane.ai](https://pennylane.ai)  \n",
    "- Tutoriales: [Demonstrations](https://pennylane.ai/qml/demonstrations/)  \n",
    "- API: [docs.pennylane.ai](https://docs.pennylane.ai/en/stable/code/qml.html)  \n",
    "- Repositorio: [github.com/PennyLaneAI/pennylane](https://github.com/PennyLaneAI/pennylane)\n",
    "\n",
    "---\n",
    "\n",
    "### 📦 Instalación\n",
    "\n",
    "```bash\n",
    "pip install pennylane\n",
    "\n",
    "📝 Nota  \n",
    "    - Especializado en computación cuántica híbrida y machine learning cuántico.  \n",
    "    - Se integra con PyTorch, TensorFlow y JAX para entrenamiento de modelos híbridos.  \n",
    "    - Compatible con Qiskit, Cirq y Braket como backends.  \n",
    "    - Excelente opción para quienes se interesan en aplicaciones de IA cuántica.\n"
   ]
  },
  {
   "cell_type": "markdown",
   "id": "3e56cb95-fead-4ce2-8dca-1eb370d0fe1e",
   "metadata": {
    "id": "3e56cb95-fead-4ce2-8dca-1eb370d0fe1e"
   },
   "source": [
    "### 🔷 1.4. Strawberry Fields\n",
    "\n",
    "**Desarrollado por:** Xanadu  \n",
    "**Lenguaje:** Python  \n",
    "**Descripción:** Strawberry Fields es un framework full-stack para el diseño, simulación y optimización de **circuitos ópticos cuánticos de variable continua**.  \n",
    "Está centrado en un enfoque **fotónico**, diferente al de los circuitos cuánticos basados en qubits discretos.\n",
    "\n",
    "Es una herramienta útil para investigar computación cuántica fotónica y algoritmos que trabajan con estados de luz.\n",
    "\n",
    "- Página principal: [https://strawberryfields.ai](https://strawberryfields.ai)  \n",
    "- Tutoriales: [Photonics demos](https://strawberryfields.ai/photonics/demonstrations.html)  \n",
    "- API: [ReadTheDocs](https://strawberryfields.readthedocs.io/en/stable/)  \n",
    "- Repositorio: [github.com/XanaduAI/strawberryfields](https://github.com/XanaduAI/strawberryfields)\n",
    "\n",
    "---\n",
    "\n",
    "### 📦 Instalación\n",
    "\n",
    "```bash\n",
    "pip install strawberryfields\n",
    "\n",
    "📝 Nota  \n",
    "    - Framework para computación cuántica **fotónica**, no basada en qubits tradicionales.  \n",
    "    - Ideal para investigación en óptica cuántica y variables continuas.  \n",
    "    - No es compatible con hardware como IBM o IonQ.  \n",
    "    - Muy útil en contextos académicos especializados.\n"
   ]
  },
  {
   "cell_type": "markdown",
   "id": "041fbe3b-e07e-4ecb-8ee9-367725116baf",
   "metadata": {
    "id": "041fbe3b-e07e-4ecb-8ee9-367725116baf"
   },
   "source": [
    "### 🔷 1.5. QuTiP\n",
    "\n",
    "**Desarrollado por:** J.R. Johansson y P.D. Nation  \n",
    "**Lenguaje:** Python  \n",
    "**Descripción:** QuTiP (Quantum Toolbox in Python) es un framework especializado en la simulación de **sistemas cuánticos abiertos**.  \n",
    "Es ampliamente utilizado en investigaciones relacionadas con mecánica cuántica, óptica cuántica y dinámica de decoherencia.\n",
    "\n",
    "No está diseñado específicamente para programación de algoritmos cuánticos como Qiskit o Cirq, sino para estudiar **comportamientos físicos de sistemas cuánticos**.\n",
    "\n",
    "- Página principal: [https://qutip.org](https://qutip.org)  \n",
    "- Tutoriales: [qutip-tutorials](https://qutip.org/qutip-tutorials/)  \n",
    "- API: [docs.apidoc](https://qutip.org/docs/latest/apidoc/apidoc.html)  \n",
    "- Repositorio: [github.com/qutip/qutip](https://github.com/qutip/qutip)\n",
    "\n",
    "---\n",
    "\n",
    "### 📦 Instalación\n",
    "\n",
    "```bash\n",
    "pip install qutip\n",
    "\n",
    "📝 Nota  \n",
    "    - Enfocado en simulación de sistemas cuánticos abiertos y dinámica cuántica.  \n",
    "    - Utilizado principalmente en física teórica y óptica cuántica.  \n",
    "    - No permite ejecutar algoritmos en hardware cuántico.  \n",
    "    - Recomendado para estudiantes o investigadores en física cuántica computacional."
   ]
  },
  {
   "cell_type": "markdown",
   "id": "f9947ce9-aeff-4125-a7bb-15ed57dc0861",
   "metadata": {
    "id": "f9947ce9-aeff-4125-a7bb-15ed57dc0861"
   },
   "source": [
    "### 🔷 1.6. ProjectQ\n",
    "\n",
    "**Desarrollado por:** ETH Zúrich  \n",
    "**Lenguaje:** Python  \n",
    "**Descripción:** ProjectQ es un framework de código abierto para la implementación de programas cuánticos que pueden ejecutarse en simuladores o en hardware real a través de integraciones con IBM Quantum, Amazon Braket, IonQ, entre otros.\n",
    "\n",
    "Se enfoca en ofrecer una sintaxis simple para describir circuitos cuánticos, permitiendo realizar simulaciones locales o ejecutar código en plataformas conectadas.\n",
    "\n",
    "- Página principal: *(inactiva)* [https://www.projectq.ch](https://www.projectq.ch)  \n",
    "- Tutoriales: [ReadTheDocs](https://projectq.readthedocs.io/en/latest/tutorials.html)  \n",
    "- API: [API Docs](https://projectq.readthedocs.io/en/latest/projectq.html)  \n",
    "- Repositorio: [github.com/ProjectQ-Framework/ProjectQ](https://github.com/ProjectQ-Framework/ProjectQ)\n",
    "\n",
    "---\n",
    "\n",
    "### 📦 Instalación\n",
    "\n",
    "```bash\n",
    "pip install projectq\n",
    "\n",
    "📝 Nota  \n",
    "    - Sintaxis simple para construir circuitos cuánticos en Python.  \n",
    "    - Puede conectarse con hardware cuántico como IBM, aunque con soporte limitado.  \n",
    "    - Sitio web inactivo, pero documentación aún disponible.  \n",
    "    - Útil como alternativa liviana para simulación local.\n"
   ]
  },
  {
   "cell_type": "markdown",
   "id": "cebc8767-b619-46e3-a7e2-ea185797cd2f",
   "metadata": {
    "id": "cebc8767-b619-46e3-a7e2-ea185797cd2f"
   },
   "source": [
    "### 🔷 1.7. Q#\n",
    "\n",
    "**Desarrollado por:** Microsoft  \n",
    "**Lenguaje:** Q# (lenguaje propio), integrable con Python  \n",
    "**Descripción:** Q# es un lenguaje de programación creado específicamente para computación cuántica.  \n",
    "Forma parte del **Azure Quantum Development Kit (QDK)** y permite escribir, simular y depurar algoritmos cuánticos, con posibilidad de ejecución en hardware a través de Azure Quantum.\n",
    "\n",
    "También puede integrarse con Python para combinar procesamiento clásico y cuántico en flujos de trabajo híbridos.\n",
    "\n",
    "- Página principal: [https://learn.microsoft.com/en-us/azure/quantum/user-guide/](https://learn.microsoft.com/en-us/azure/quantum/user-guide/)  \n",
    "- Tutoriales: [Quantum Katas](https://learn.microsoft.com/en-us/azure/quantum/tutorial-qdk-intro-to-katas)  \n",
    "- API: [Q# API Reference](https://learn.microsoft.com/en-us/qsharp/api/qsharp/)  \n",
    "- Repositorio: [github.com/microsoft/qsharp](https://github.com/microsoft/qsharp)\n",
    "\n",
    "---\n",
    "\n",
    "### 📦 Instalación\n",
    "\n",
    "```bash\n",
    "pip install qsharp ipykernel\n",
    "\n",
    "📝 Nota  \n",
    "    - Lenguaje propio de Microsoft para computación cuántica.  \n",
    "    - Requiere instalación adicional de .NET SDK.  \n",
    "    - Se puede integrar con Python mediante el Quantum Development Kit (QDK).  \n",
    "    - Azure Quantum no es accesible desde México sin VPN.\n"
   ]
  },
  {
   "cell_type": "markdown",
   "id": "21a934cf-2cb3-46fc-a685-d84b803bdb36",
   "metadata": {
    "id": "21a934cf-2cb3-46fc-a685-d84b803bdb36"
   },
   "source": [
    "### 🔷 2.8. Amazon Braket SDK\n",
    "\n",
    "**Desarrollado por:** Amazon Web Services (AWS)  \n",
    "**Lenguaje:** Python (con soporte emergente para otros lenguajes como C++, Java, Go, etc.)  \n",
    "**Descripción:** Amazon Braket es un entorno de desarrollo cuántico en la nube que permite construir, simular y ejecutar algoritmos cuánticos en diferentes **tipos de hardware** (trampas de iones, superconductores, adiabáticos), ofrecidos por múltiples proveedores como:\n",
    "\n",
    "- D-Wave (adiabático)  \n",
    "- IonQ (trampas de iones)  \n",
    "- Rigetti (superconductores)\n",
    "\n",
    "Permite programar desde una cuenta de AWS y usar herramientas integradas con su infraestructura cloud.\n",
    "\n",
    "- Página principal: [https://docs.aws.amazon.com/braket/](https://docs.aws.amazon.com/braket/)  \n",
    "- Tutoriales: [amazon-braket-examples](https://github.com/amazon-braket/amazon-braket-examples)  \n",
    "- API: [AWS Braket API Reference](https://docs.aws.amazon.com/braket/latest/APIReference/Welcome.html)  \n",
    "- Repositorio: [github.com/amazon-braket/amazon-braket-sdk-python](https://github.com/amazon-braket/amazon-braket-sdk-python)\n",
    "\n",
    "---\n",
    "\n",
    "### 📦 Instalación\n",
    "\n",
    "```bash\n",
    "pip install amazon-braket-sdk\n",
    "\n",
    "📝 Nota  \n",
    "    - Interfaz para ejecutar algoritmos en múltiples tipos de hardware (IonQ, Rigetti, D-Wave).  \n",
    "    - Requiere cuenta de AWS y configuración de credenciales.  \n",
    "    - Permite comparar resultados entre tecnologías cuánticas distintas.  \n",
    "    - Más orientado a usuarios con experiencia en servicios cloud.\n"
   ]
  },
  {
   "cell_type": "markdown",
   "id": "d40902ad-8583-49dd-8726-da1228da177e",
   "metadata": {
    "id": "d40902ad-8583-49dd-8726-da1228da177e"
   },
   "source": [
    "### 🔷 1.9. MindQuantum\n",
    "\n",
    "**Desarrollado por:** Huawei  \n",
    "**Lenguaje:** Python  \n",
    "**Descripción:** MindQuantum (actualmente parte del ecosistema **MindSpore Quantum**) es un framework especializado en **computación cuántica y machine learning cuántico**.  \n",
    "Está diseñado para integrarse con el entorno de IA de Huawei (MindSpore), permitiendo la creación de modelos híbridos cuántico-clásicos y su entrenamiento en GPU o Ascend.\n",
    "\n",
    "Ofrece herramientas para construir circuitos, calcular gradientes cuánticos y trabajar con simuladores optimizados.\n",
    "\n",
    "- Página principal: [https://www.mindspore.cn/mindquantum/docs/en/master/index.html](https://www.mindspore.cn/mindquantum/docs/en/master/index.html)  \n",
    "- Tutoriales: [Beginner Guide](https://www.mindspore.cn/mindquantum/docs/en/master/beginner/beginner.html)  \n",
    "- API: [Overview](https://www.mindspore.cn/mindquantum/docs/en/master/overview.html)  \n",
    "- Repositorio: [github.com/mindspore-ai/mindquantum](https://github.com/mindspore-ai/mindquantum)\n",
    "\n",
    "---\n",
    "\n",
    "### 📦 Instalación\n",
    "\n",
    "```bash\n",
    "pip install mindquantum\n",
    "\n",
    "📝 Nota  \n",
    "    - Desarrollado por Huawei como parte del ecosistema MindSpore.  \n",
    "    - Enfocado en machine learning cuántico y modelos híbridos.  \n",
    "    - Ideal para investigación en IA cuántica en entornos industriales.  \n",
    "    - Permite simulación y entrenamiento de modelos cuántico-clásicos.\n"
   ]
  },
  {
   "cell_type": "markdown",
   "id": "598e2654-a621-4c1c-8a5a-11e77d839638",
   "metadata": {
    "id": "598e2654-a621-4c1c-8a5a-11e77d839638"
   },
   "source": [
    "## 2. ☁️ Plataformas con acceso a Hardware Cuántico\n",
    "\n",
    "Varias plataformas ofrecen acceso a computadoras cuánticas reales a través de la nube, permitiendo a investigadores, estudiantes y desarrolladores ejecutar programas en diferentes tecnologías cuánticas.\n",
    "\n",
    "Estas plataformas conectan frameworks de programación (como Qiskit o Braket SDK) con procesadores cuánticos reales, lo que permite probar algoritmos más allá de simples simulaciones.\n",
    "\n",
    "A continuación se describen las principales plataformas disponibles en la actualidad.\n"
   ]
  },
  {
   "cell_type": "markdown",
   "id": "17fbf4b5-e838-4a16-9e05-04355bac5c2a",
   "metadata": {
    "id": "17fbf4b5-e838-4a16-9e05-04355bac5c2a"
   },
   "source": [
    "### 🔷 2.1. IBM Quantum Platform\n",
    "\n",
    "**Proveedor:** IBM  \n",
    "**Tecnología:** Circuitos superconductores  \n",
    "**Framework compatible:** Qiskit\n",
    "\n",
    "IBM Quantum Platform es una de las plataformas más accesibles y utilizadas para ejecutar programas cuánticos en hardware real.  \n",
    "Permite interactuar con varios procesadores cuánticos (con distintos números de qubits) y simuladores, todo desde la nube.\n",
    "\n",
    "El acceso se gestiona mediante una cuenta gratuita en IBM Quantum Experience y se controla mediante Qiskit.\n",
    "\n",
    "- Página principal: [https://quantum.ibm.com/](https://quantum.ibm.com/)\n",
    "\n",
    "---\n",
    "\n",
    "### 📦 Requisitos de uso\n",
    "\n",
    "- Tener una cuenta en IBM Quantum Experience.  \n",
    "- Obtener un token de autenticación (lo proporciona IBM).  \n",
    "- Usar `qiskit-ibm-runtime` para conectarse y enviar trabajos desde Python.\n",
    "\n",
    "---\n",
    "\n",
    "### 📝 Nota  \n",
    "    - Plataforma ideal para estudiantes y desarrolladores que inician en la computación cuántica.  \n",
    "    - Proporciona acceso gratuito a simuladores y hardware real limitado por colas.  \n",
    "    - Ofrece visualización gráfica del circuito, historial de ejecuciones y resultados desde el navegador.  \n",
    "    - Muy bien integrada con Qiskit, su SDK oficial.  \n",
    "    - Tiene documentación extensa y cursos interactivos dentro de la plataforma.\n"
   ]
  },
  {
   "cell_type": "markdown",
   "id": "4ee668f6-b193-47fb-b56c-92ba0172b042",
   "metadata": {
    "id": "4ee668f6-b193-47fb-b56c-92ba0172b042"
   },
   "source": [
    "### 🔷 2.2. Amazon Braket\n",
    "\n",
    "**Proveedor:** Amazon Web Services (AWS)  \n",
    "**Tecnologías disponibles:**  \n",
    "- D-Wave (adiabática)  \n",
    "- IonQ (trampas de iones)  \n",
    "- Rigetti (circuitos superconductores)  \n",
    "- Ocasionalmente IBM, entre otros\n",
    "\n",
    "**Framework compatible:** Amazon Braket SDK\n",
    "\n",
    "Amazon Braket es una plataforma de AWS que permite desarrollar, simular y ejecutar algoritmos cuánticos en diferentes tecnologías, todo desde un entorno unificado en la nube.  \n",
    "\n",
    "Su objetivo es permitir a los desarrolladores experimentar y comparar resultados en distintos tipos de hardware cuántico.\n",
    "\n",
    "- Página principal: [https://aws.amazon.com/braket/](https://aws.amazon.com/braket/)\n",
    "\n",
    "---\n",
    "\n",
    "### 📦 Requisitos de uso\n",
    "\n",
    "- Tener una cuenta de AWS con método de pago registrado.  \n",
    "- Crear una instancia de servicio para Amazon Braket.  \n",
    "- Configurar credenciales locales para interactuar con la API.  \n",
    "- Usar `amazon-braket-sdk` desde Python.\n",
    "\n",
    "---\n",
    "\n",
    "### 📝 Nota  \n",
    "    - Plataforma robusta y flexible, ideal para comparar tecnologías cuánticas.  \n",
    "    - Requiere conocimientos básicos en servicios de nube y configuración de AWS.  \n",
    "    - Permite ejecutar en simuladores propios o en hardware real (D-Wave, IonQ, Rigetti).  \n",
    "    - Tiene buen soporte para aprendizaje y ejemplos prácticos en su repositorio oficial.\n"
   ]
  },
  {
   "cell_type": "markdown",
   "id": "480c1e08-f7b1-4d4a-b7d9-3b0f81bffa3d",
   "metadata": {
    "id": "480c1e08-f7b1-4d4a-b7d9-3b0f81bffa3d"
   },
   "source": [
    "### 🔷 2.3. Azure Quantum\n",
    "\n",
    "**Proveedor:** Microsoft  \n",
    "**Tecnologías disponibles:** IonQ, Quantinuum (antes Honeywell), y otros  \n",
    "**Framework compatible:** Qiskit, Q#, Cirq (vía partners)\n",
    "\n",
    "Azure Quantum es la plataforma de Microsoft para computación cuántica en la nube.  \n",
    "Permite acceder a diferentes tipos de hardware cuántico a través de una interfaz unificada, junto con simuladores de alto rendimiento.\n",
    "\n",
    "Aunque está muy integrada con Q#, también permite el uso de otros lenguajes y frameworks compatibles con los proveedores.\n",
    "\n",
    "- Página principal: [https://quantum.microsoft.com/](https://quantum.microsoft.com/)\n",
    "\n",
    "---\n",
    "\n",
    "### 📦 Requisitos de uso\n",
    "\n",
    "- Cuenta de Microsoft/Azure.  \n",
    "- Configuración de una suscripción en Azure Quantum.  \n",
    "- Algunos servicios requieren VPN desde México.  \n",
    "- Uso del Quantum Development Kit (QDK) para trabajar con Q#.\n",
    "\n",
    "---\n",
    "\n",
    "### 📝 Nota  \n",
    "    - Acceso gratuito con ciertas limitaciones; se necesita tarjeta registrada.  \n",
    "    - Proporciona notebooks interactivos y simuladores de gran capacidad.  \n",
    "    - Muy orientada a desarrolladores que desean trabajar con Q#.  \n",
    "    - Puede no ser accesible desde México sin VPN, especialmente para ejecutar código en hardware real.\n"
   ]
  },
  {
   "cell_type": "markdown",
   "id": "b362a61c-76a5-4edc-8f38-c40442a665fb",
   "metadata": {
    "id": "b362a61c-76a5-4edc-8f38-c40442a665fb"
   },
   "source": [
    "### 🔷 2.4. Google Quantum AI\n",
    "\n",
    "**Proveedor:** Google  \n",
    "**Tecnología:** Circuitos superconductores  \n",
    "**Framework compatible:** Cirq\n",
    "\n",
    "Google Quantum AI es el proyecto de computación cuántica de Google.  \n",
    "Ha logrado importantes avances, como la demostración de \"ventaja cuántica\", pero su acceso está limitado a colaboraciones académicas y de investigación.\n",
    "\n",
    "A diferencia de otras plataformas, no proporciona acceso público generalizado al hardware cuántico.\n",
    "\n",
    "- Página principal: [https://quantumai.google/](https://quantumai.google/)\n",
    "\n",
    "---\n",
    "\n",
    "### 📦 Requisitos de uso\n",
    "\n",
    "- Actualmente no ofrece acceso directo al hardware al público en general.  \n",
    "- Se puede usar Cirq para simular circuitos cuánticos localmente o en Google Colab.  \n",
    "- Colaboraciones con Google requieren acuerdos específicos.\n",
    "\n",
    "---\n",
    "\n",
    "### 📝 Nota  \n",
    "    - Proyecto pionero en computación cuántica, pero con acceso restringido.  \n",
    "    - Cirq sigue siendo útil como framework para simulación y desarrollo de circuitos.  \n",
    "    - Ideal para quienes desean entender cómo trabaja Google con su tecnología cuántica.  \n",
    "    - Avances como Sycamore han marcado hitos importantes en el área.\n"
   ]
  },
  {
   "cell_type": "markdown",
   "id": "e8133253-d81e-4894-ae5e-c47b19cf0621",
   "metadata": {
    "id": "e8133253-d81e-4894-ae5e-c47b19cf0621"
   },
   "source": [
    "### 🔷 2.5. Rigetti Quantum Cloud Services (QCS)\n",
    "\n",
    "**Proveedor:** Rigetti Computing  \n",
    "**Tecnología:** Circuitos superconductores  \n",
    "**Framework compatible:** Quil, pyQuil, Forest SDK\n",
    "\n",
    "Rigetti QCS es la plataforma en la nube que permite ejecutar algoritmos cuánticos en hardware real de Rigetti.  \n",
    "Además de su propio framework (pyQuil), puede integrarse con servicios como Amazon Braket.\n",
    "\n",
    "Su enfoque está en desarrollar aplicaciones cuánticas prácticas con acceso a sus procesadores.\n",
    "\n",
    "- Página principal: [https://www.rigetti.com/](https://www.rigetti.com/)\n",
    "\n",
    "---\n",
    "\n",
    "### 📦 Requisitos de uso\n",
    "\n",
    "- Solicitud de acceso a través del portal de Rigetti.  \n",
    "- Cuenta en Amazon Braket si se accede mediante AWS.  \n",
    "- Instalación de pyQuil para programar localmente.\n",
    "\n",
    "---\n",
    "\n",
    "### 📝 Nota  \n",
    "    - Aunque el acceso directo a QCS es limitado, su integración con Braket lo hace accesible.  \n",
    "    - pyQuil y Quil ofrecen una forma alternativa de representar circuitos cuánticos.  \n",
    "    - Está orientado a desarrolladores con interés en explorar alternativas a Qiskit y Cirq.  \n",
    "    - Su comunidad es más pequeña en comparación con IBM y Google.\n"
   ]
  },
  {
   "cell_type": "markdown",
   "id": "58f2ea2d-ca9d-4662-b606-5abe300123bc",
   "metadata": {
    "id": "58f2ea2d-ca9d-4662-b606-5abe300123bc"
   },
   "source": [
    "### 🔷 2.6. IonQ\n",
    "\n",
    "**Proveedor:** IonQ  \n",
    "**Tecnología:** Trampas de iones  \n",
    "**Frameworks compatibles:** Qiskit, Cirq, Braket SDK (a través de plataformas)\n",
    "\n",
    "IonQ ofrece computadoras cuánticas accesibles mediante servicios en la nube como Amazon Braket, Microsoft Azure Quantum y Google Cloud.  \n",
    "No proporciona acceso directo desde su sitio, pero sí a través de estas plataformas integradas.\n",
    "\n",
    "Su tecnología basada en trampas de iones se destaca por una fidelidad alta y estabilidad en los qubits.\n",
    "\n",
    "- Página principal: [https://ionq.com/](https://ionq.com/)\n",
    "\n",
    "---\n",
    "\n",
    "### 📦 Requisitos de uso\n",
    "\n",
    "- Crear cuenta en alguna plataforma como Amazon Braket o Azure Quantum.  \n",
    "- Programar desde frameworks compatibles como Qiskit o Braket SDK.\n",
    "\n",
    "---\n",
    "\n",
    "### 📝 Nota  \n",
    "    - IonQ ha logrado avances notables en fidelidad de puertas cuánticas y conectividad.  \n",
    "    - Ideal para ejecutar algoritmos que requieren precisión.  \n",
    "    - Accesible solo a través de terceros; no hay acceso directo por su plataforma.  \n",
    "    - Compatible con múltiples entornos de desarrollo cuántico.\n"
   ]
  },
  {
   "cell_type": "markdown",
   "id": "1ffacd7b-d8b6-49f5-b50e-e640a93785c6",
   "metadata": {
    "id": "1ffacd7b-d8b6-49f5-b50e-e640a93785c6"
   },
   "source": [
    "### 🔷 2.7. D-Wave Leap\n",
    "\n",
    "**Proveedor:** D-Wave Systems  \n",
    "**Tecnología:** Computación cuántica adiabática (Quantum Annealing)  \n",
    "**Framework compatible:** Ocean SDK\n",
    "\n",
    "D-Wave Leap es la plataforma en la nube que permite acceder a las computadoras cuánticas adiabáticas de D-Wave, orientadas a resolver problemas de optimización y muestreo.\n",
    "\n",
    "A diferencia de los circuitos cuánticos universales, D-Wave emplea otro modelo computacional especializado.\n",
    "\n",
    "- Página principal: [https://www.dwavesys.com/solutions-and-products/cloud-platform/](https://www.dwavesys.com/solutions-and-products/cloud-platform/)\n",
    "\n",
    "---\n",
    "\n",
    "### 📦 Requisitos de uso\n",
    "\n",
    "- Crear cuenta en D-Wave Leap.  \n",
    "- Algunas funciones requieren VPN desde México.  \n",
    "- Instalar el Ocean SDK en Python (`pip install dwave-ocean-sdk`).  \n",
    "- Obtener token de acceso desde la consola de Leap.\n",
    "\n",
    "---\n",
    "\n",
    "### 📝 Nota  \n",
    "    - Especializado en problemas de optimización como el *viajero*, *coloreo de grafos* y *planning*.  \n",
    "    - No utiliza puertas cuánticas tradicionales, sino un enfoque adiabático.  \n",
    "    - Provee acceso gratuito limitado por tiempo (sujeto a condiciones).  \n",
    "    - Puede ser complementario a otros frameworks, pero no reemplazarlos directamente.\n"
   ]
  },
  {
   "cell_type": "markdown",
   "id": "3770db51-7e79-4420-88aa-8bf4770e9efb",
   "metadata": {
    "id": "3770db51-7e79-4420-88aa-8bf4770e9efb"
   },
   "source": [
    "## 3. Instalación y configuración del entorno\n",
    "\n",
    "Usaremos **Qiskit** en las prácticas de esta escuela debido a que es uno de los frameworks más populares en la comunidad de computación cuántica.  \n",
    "Su popularidad se debe en gran parte a la accesibilidad del **hardware cuántico de IBM a través de la nube**, lo que permite a investigadores, estudiantes y entusiastas experimentar con computación cuántica real.\n",
    "\n"
   ]
  },
  {
   "cell_type": "markdown",
   "id": "cec6c319-f712-464e-af92-64f72217ec57",
   "metadata": {
    "id": "cec6c319-f712-464e-af92-64f72217ec57"
   },
   "source": [
    "### 3.1 Instalación local (Paso a paso)\n",
    "\n",
    "En esta sección aprenderás a instalar Qiskit en tu computadora usando **Anaconda**, una herramienta que facilita el manejo de entornos de desarrollo en Python.\n",
    "\n",
    "> 🧠 Si nunca has programado o instalado software de este tipo, no te preocupes. Iremos paso a paso.\n",
    "\n",
    "---\n",
    "\n",
    "### 🧩 Paso 1: Instalar Anaconda\n",
    "\n",
    "**Anaconda** es un programa que te permite gestionar fácilmente diferentes entornos de programación con Python.  \n",
    "Es ideal para quienes están comenzando, ya que incluye Python y herramientas como Jupyter Notebook (que estamos usando ahora).\n",
    "\n",
    "🔗 **Descargar Anaconda**:  \n",
    "[https://www.anaconda.com](https://www.anaconda.com)\n",
    "\n",
    "📘 **Guía oficial de instalación** (elige tu sistema operativo):  \n",
    "[https://docs.anaconda.com/free/anaconda/install/index.html](https://docs.anaconda.com/free/anaconda/install/index.html)\n",
    "\n",
    "✅ **Importante**:  \n",
    "- Anaconda ya incluye Python.  \n",
    "- **No necesitas instalar Python por separado**.  \n",
    "- Instala la versión **Anaconda Individual Edition** (gratuita).  \n"
   ]
  },
  {
   "cell_type": "markdown",
   "id": "91594124-ffe3-42ac-9173-4c41b2efd039",
   "metadata": {
    "id": "91594124-ffe3-42ac-9173-4c41b2efd039"
   },
   "source": [
    "### 🧪 Paso 2: Crear un entorno para Qiskit\n",
    "\n",
    "Una vez instalado Anaconda, abrimos **Anaconda Prompt** (o \"Terminal\" en macOS/Linux).\n",
    "\n",
    "Ahí crearemos un entorno virtual donde instalaremos Qiskit, sin afectar otros programas en tu computadora.\n",
    "\n",
    "📦 **Comando para crear el entorno:**\n",
    "\n",
    "```bash\n",
    "conda create -n ccuantica python=3.12\n"
   ]
  },
  {
   "cell_type": "markdown",
   "id": "f7affdbd-72af-4406-b71e-7a26e4b9f3ea",
   "metadata": {
    "id": "f7affdbd-72af-4406-b71e-7a26e4b9f3ea"
   },
   "source": [
    "### ⚙️ Paso 3: Activar el entorno\n",
    "\n",
    "Después de crear el entorno, debemos activarlo para poder trabajar dentro de él.\n",
    "\n",
    "📦 **Comando para activarlo:**\n",
    "\n",
    "```bash\n",
    "conda activate ccuantica\n"
   ]
  },
  {
   "cell_type": "markdown",
   "id": "1c6f449e-0f21-486d-a4c3-6e96f2f283e7",
   "metadata": {
    "id": "1c6f449e-0f21-486d-a4c3-6e96f2f283e7"
   },
   "source": [
    "### 🧠 Paso 4: Instalar Qiskit\n",
    "\n",
    "Ya con el entorno activado, instalaremos Qiskit con soporte para visualización.\n",
    "\n",
    "📦 **Comando recomendado:**\n",
    "\n",
    "```bash\n",
    "pip install qiskit[visualization]\n"
   ]
  },
  {
   "cell_type": "markdown",
   "id": "b0d337e9-7ae8-46b7-84fd-c2c6c87ba89a",
   "metadata": {
    "id": "b0d337e9-7ae8-46b7-84fd-c2c6c87ba89a"
   },
   "source": [
    "### 🧾 Paso 5: Instalar Jupyter (si hace falta)\n",
    "\n",
    "Al instalar Qiskit, muchas veces también se instala **Jupyter Notebook** automáticamente.  \n",
    "Para verificar si ya lo tienes, ejecuta el siguiente comando:\n",
    "\n",
    "```bash\n",
    "pip list\n",
    "\n",
    "📦 Si NO aparece, instálalo con:\n",
    "pip install jupyter"
   ]
  },
  {
   "cell_type": "markdown",
   "id": "8ea4bece-3417-4975-b825-c3e6b1b044ea",
   "metadata": {
    "id": "8ea4bece-3417-4975-b825-c3e6b1b044ea"
   },
   "source": [
    "### 🚀 Paso 6: Abrir Jupyter Notebook\n",
    "\n",
    "Una vez que tienes todo instalado, puedes iniciar Jupyter desde la terminal (Anaconda Prompt) estando dentro del entorno `ccuantica`.\n",
    "\n",
    "📦 **Comando:**\n",
    "\n",
    "```bash\n",
    "jupyter notebook\n",
    "\n",
    "\n",
    "🔹 Esto hará lo siguiente:\n",
    "\n",
    "Abrirá una pestaña en tu navegador web.\n",
    "Desde ahí podrás navegar hasta la carpeta donde tengas tus notebooks.\n",
    "Al dar clic en un archivo .ipynb, se abrirá y podrás ejecutarlo.\n",
    "Asegúrate de estar en la misma carpeta donde tengas guardados tus archivos .ipynb, o navega a esa carpeta desde el navegador que se abre.\n"
   ]
  },
  {
   "cell_type": "markdown",
   "id": "97566ac6-ab76-468d-b0b1-c4e88ac51eac",
   "metadata": {
    "id": "97566ac6-ab76-468d-b0b1-c4e88ac51eac"
   },
   "source": [
    "## ☁️ 3.2 Instalación remota (en la nube)\n",
    "\n",
    "Alternativamente, es posible ejecutar los notebooks desde ambientes remotos como **Google Colab** o **qBraid**, sin necesidad de instalar nada localmente.\n",
    "\n",
    "---\n",
    "\n",
    "### 💻 Google Colab\n",
    "\n",
    "🔗 Accede a Google Colab: [https://colab.research.google.com](https://colab.research.google.com)\n",
    "\n",
    "- Solo necesitas una cuenta de Gmail (o compatible).\n",
    "- Puedes subir cada notebook `.ipynb` desde tu equipo o abrirlo desde GitHub.\n",
    "- Cada vez que se reinicia la sesión de Colab, es necesario volver a instalar Qiskit:\n",
    "\n",
    "```bash\n",
    "pip install qiskit[visualization]\n",
    "\n"
   ]
  },
  {
   "cell_type": "markdown",
   "id": "389c735a-2775-46b7-b2e0-189305031478",
   "metadata": {
    "id": "389c735a-2775-46b7-b2e0-189305031478"
   },
   "source": [
    "### 🧠 qBraid\n",
    "\n",
    "- Plataforma educativa en línea enfocada en computación cuántica.\n",
    "- Permite trabajar con notebooks persistentes (no se reinicia la sesión al cerrar el navegador).\n",
    "- Requiere crear una cuenta gratuita.\n",
    "- Dispone de entornos preconfigurados para Qiskit, PennyLane, Cirq, entre otros.\n",
    "\n",
    "🌐 Sitio oficial: [https://www.qbraid.com](https://www.qbraid.com)\n"
   ]
  },
  {
   "cell_type": "markdown",
   "id": "e9155055-44fd-43ec-aacc-a9bc0285d056",
   "metadata": {
    "id": "35e586fd-283b-40b8-b621-f09ad020333a"
   },
   "source": [
    "En esta sección se presentaron los principales frameworks utilizados para el desarrollo de software cuántico, destacando a Qiskit por su versatilidad, comunidad activa y acceso a hardware real a través de IBM Quantum. La elección de herramientas para la programación cuántica debe considerar factores como la visualización de circuitos, integración con simuladores, disponibilidad de documentación y compatibilidad con plataformas en la nube [1]–[3]. En particular, Qiskit permite diseñar, simular y ejecutar circuitos cuánticos utilizando Python, lo que facilita su adopción en entornos académicos y profesionales [4], [5].\n",
    "\n",
    "## Referencias\n",
    "\n",
    "[1] M. A. Serrano, R. Pérez-Castillo, M. Piattini y M. Felderer (Eds.), *Quantum Software: Aspects of Theory and System Design*, Springer, 2022.\n",
    "\n",
    "[2] M. A. Akbar, M. R. A. Choudhury, K. Salah et al., \"A systematic decision‑making framework for tackling quantum software engineering challenges,\" *Automated Software Engineering*, vol. 30, no. 1, 2023. https://doi.org/10.1007/s10515-023-00343-7\n",
    "\n",
    "[3] R. S. Singh, R. Ahmad, N. Bhatia y S. R. Biradar, \"A Survey on Available Tools and Technologies Enabling Quantum Computing,\" *Archives of Computational Methods in Engineering*, 2022. https://doi.org/10.1007/s11831-022-09783-z\n",
    "\n",
    "[4] Qiskit Development Team, \"Qiskit: An Open-source Framework for Quantum Computing,\" IBM Research, 2023. Disponible en: https://qiskit.org\n",
    "\n",
    "[5] IBM Quantum, *Quantum Computing in Practice: Running Quantum Circuits*, IBM Quantum Learning, 2024. Disponible en: https://quantum-computing.ibm.com/\n"
   ]
  },
  {
   "cell_type": "code",
   "execution_count": null,
   "id": "1ad2814a-b9c6-4ced-a23b-34f793bfd6a5",
   "metadata": {},
   "outputs": [],
   "source": []
  }
 ],
 "metadata": {
  "colab": {
   "provenance": []
  },
  "kernelspec": {
   "display_name": "Python 3 (ipykernel)",
   "language": "python",
   "name": "python3"
  },
  "language_info": {
   "codemirror_mode": {
    "name": "ipython",
    "version": 3
   },
   "file_extension": ".py",
   "mimetype": "text/x-python",
   "name": "python",
   "nbconvert_exporter": "python",
   "pygments_lexer": "ipython3",
   "version": "3.11.9"
  }
 },
 "nbformat": 4,
 "nbformat_minor": 5
}
