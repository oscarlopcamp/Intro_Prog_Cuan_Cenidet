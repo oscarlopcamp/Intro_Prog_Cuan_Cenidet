{
 "cells": [
  {
   "cell_type": "markdown",
   "id": "7ecc1d15-1241-40a9-aa93-fb3c6dff4453",
   "metadata": {},
   "source": [
    "<center>\n",
    "\n",
    "# 🧠 2. Introducción a la Programación Cuántica\n",
    "\n",
    "### Introduccion a Programación Cuántica – CENIDET   \n",
    "Autor: **Oscar Alejandro López Campero**  \n",
    "Maestría en Ciencias de la Computación – Línea de Ingeniería de Software  \n",
    "Agosto 2025\n",
    "\n",
    "---\n",
    "\n",
    "</center>"
   ]
  },
  {
   "cell_type": "markdown",
   "id": "8707779a-f130-4b9e-b4c3-93968d4d08a7",
   "metadata": {},
   "source": [
    "## 📚 Contenido del Módulo: Sistemas de Múltiples Qubits y Compuertas Compuestas\n",
    "\n",
    "En este módulo el estudiante aprenderá a construir, visualizar y analizar circuitos cuánticos que involucran **más de un qubit**, y a utilizar **secuencias de compuertas** para generar estados más complejos, como las **superposiciones múltiples** y los **estados entrelazados**.\n",
    "\n",
    "Se sentarán las bases necesarias para entender fenómenos cuánticos fundamentales y preparar el camino hacia la medición, la interferencia y los algoritmos cuánticos.\n",
    "\n",
    "---\n",
    "\n",
    "## 🧾 Temario\n",
    "\n",
    "1️⃣ **Creación de sistemas con múltiples qubits**  \n",
    "2️⃣ **Construcción de estados base en sistemas de 2 qubits**  \n",
    "3️⃣ **Aplicación secuencial de compuertas**  \n",
    "4️⃣ **Compuertas de dos qubits: introducción a CNOT**  \n",
    "5️⃣ **Visualización del vector de estado en sistemas de 2 qubits**  \n",
    "6️⃣ **Construcción y análisis del estado de Bell**  \n",
    "7️⃣ **Ejercicios y experimentación con dos qubits**  \n"
   ]
  },
  {
   "cell_type": "markdown",
   "id": "4456d6ee-b917-45b3-b481-d78b9e55e00b",
   "metadata": {},
   "source": [
    "---\n",
    "\n",
    "## 🧩 Sección 1 – Creación de sistemas con múltiples qubits\n",
    "\n",
    "Hasta ahora hemos trabajado con circuitos de **un solo qubit**, donde el estado era una combinación de `|0⟩` y `|1⟩`.\n",
    "\n",
    "Ahora construiremos circuitos con **dos qubits**, lo cual da lugar a **cuatro posibles estados base**:\n",
    "\n",
    "- `|00⟩`\n",
    "- `|01⟩`\n",
    "- `|10⟩`\n",
    "- `|11⟩`\n",
    "\n",
    "Estos forman la **base computacional** para sistemas de 2 qubits.  \n",
    "Cualquier combinación lineal de estos estados es válida para describir un sistema cuántico de dos qubits.\n",
    "\n",
    "---\n",
    "\n",
    "En Qiskit, se crea un sistema de 2 qubits así:\n",
    "\n"
   ]
  },
  {
   "cell_type": "code",
   "execution_count": 1,
   "id": "e74dbfb7-b240-44f1-a378-523ab7c9c58b",
   "metadata": {},
   "outputs": [
    {
     "data": {
      "image/png": "[encoded data removed]",
      "text/plain": [
       "<Figure size 161.878x200.667 with 1 Axes>"
      ]
     },
     "metadata": {},
     "output_type": "display_data"
    },
    {
     "name": "stdout",
     "output_type": "stream",
     "text": [
      "🧪 Estado vectorial del sistema |00⟩:\n"
     ]
    },
    {
     "data": {
      "text/latex": [
       "$$\n",
       "\n",
       "\\begin{bmatrix}\n",
       "1 & 0 & 0 & 0  \\\\\n",
       " \\end{bmatrix}\n",
       "$$"
      ],
      "text/plain": [
       "<IPython.core.display.Latex object>"
      ]
     },
     "metadata": {},
     "output_type": "display_data"
    },
    {
     "name": "stdout",
     "output_type": "stream",
     "text": [
      "🧪 Estado en notación ket:\n"
     ]
    },
    {
     "data": {
      "text/latex": [
       "$$ |00\\rangle$$"
      ],
      "text/plain": [
       "<IPython.core.display.Latex object>"
      ]
     },
     "metadata": {},
     "output_type": "display_data"
    }
   ],
   "source": [
    "from qiskit import QuantumCircuit\n",
    "from qiskit.quantum_info import Statevector\n",
    "from qiskit.visualization import array_to_latex\n",
    "from IPython.display import display\n",
    "\n",
    "# Crear circuito con 2 qubits\n",
    "qc = QuantumCircuit(2)\n",
    "psi = Statevector(qc)\n",
    "\n",
    "# Mostrar circuito vacío\n",
    "display(qc.draw('mpl'))\n",
    "\n",
    "# Mostrar vector de estado\n",
    "print(\"🧪 Estado vectorial del sistema |00⟩:\")\n",
    "display(array_to_latex(psi.data))\n",
    "\n",
    "# Mostrar en notación ket\n",
    "print(\"🧪 Estado en notación ket:\")\n",
    "display(psi.draw('latex'))\n"
   ]
  },
  {
   "cell_type": "markdown",
   "id": "b8bfafcd-4ebe-44e1-9e4d-745307df2895",
   "metadata": {},
   "source": [
    "---\n",
    "\n",
    "### ✅ Explicación del resultado\n",
    "\n",
    "- El sistema comienza en el estado `|00⟩`, lo cual significa que **ambos qubits están en `|0⟩`**.\n",
    "- El vector de estado tiene **cuatro componentes**, y solo la correspondiente a `|00⟩` tiene valor `1`; las demás son `0`.\n",
    "- El orden en Qiskit sigue la convención **little-endian**, lo que significa que el qubit **de mayor índice (qubit 1)** es el más significativo.\n",
    "\n",
    "Esto es importante para interpretar correctamente las posiciones en el vector de estado:\n",
    "\n",
    "$$\n",
    "[|00⟩,\\ |01⟩,\\ |10⟩,\\ |11⟩]\n",
    "$$\n",
    "\n",
    "---\n",
    "\n",
    "📌 En la siguiente sección aplicaremos compuertas a uno de los qubits para cambiar el estado, y observaremos cómo se modifica el sistema completo.\n"
   ]
  },
  {
   "cell_type": "markdown",
   "id": "59776485-280e-4a60-aaf0-344e0065965d",
   "metadata": {},
   "source": [
    "---\n",
    "\n",
    "## ⚙️ Sección 2 – Aplicación de compuertas individuales en sistemas de 2 qubits\n",
    "\n",
    "Ahora que hemos creado un sistema con dos qubits en estado `|00⟩`, aplicaremos una **compuerta X al qubit 1**, para transformar el estado a `|01⟩`.\n",
    "\n",
    "Recordemos que:\n",
    "- `qubit 0` es el de **abajo** (menos significativo)\n",
    "- `qubit 1` es el de **arriba** (más significativo)\n",
    "\n",
    "Por tanto, aplicar `X(1)` transforma:\n",
    "\n",
    "$$\n",
    "|00⟩ \\quad \\longrightarrow \\quad |01⟩\n",
    "$$\n",
    "\n",
    "Vamos a observar cómo se modifica el circuito, el vector de estado y su notación ket.\n"
   ]
  },
  {
   "cell_type": "code",
   "execution_count": 2,
   "id": "0555cf6b-8cec-43d4-98c1-9433b24e4403",
   "metadata": {},
   "outputs": [
    {
     "data": {
      "image/png": "[encoded data removed]",
      "text/plain": [
       "<Figure size 203.683x200.667 with 1 Axes>"
      ]
     },
     "metadata": {},
     "output_type": "display_data"
    },
    {
     "name": "stdout",
     "output_type": "stream",
     "text": [
      "🧪 Estado vectorial del sistema:\n"
     ]
    },
    {
     "data": {
      "text/latex": [
       "$$\n",
       "\n",
       "\\begin{bmatrix}\n",
       "0 & 0 & 1 & 0  \\\\\n",
       " \\end{bmatrix}\n",
       "$$"
      ],
      "text/plain": [
       "<IPython.core.display.Latex object>"
      ]
     },
     "metadata": {},
     "output_type": "display_data"
    },
    {
     "name": "stdout",
     "output_type": "stream",
     "text": [
      "🧪 Estado en notación ket:\n"
     ]
    },
    {
     "data": {
      "text/latex": [
       "$$ |10\\rangle$$"
      ],
      "text/plain": [
       "<IPython.core.display.Latex object>"
      ]
     },
     "metadata": {},
     "output_type": "display_data"
    }
   ],
   "source": [
    "from qiskit import QuantumCircuit\n",
    "from qiskit.quantum_info import Statevector\n",
    "from qiskit.visualization import array_to_latex\n",
    "from IPython.display import display\n",
    "\n",
    "# Crear circuito y aplicar compuerta X al qubit 1\n",
    "qc = QuantumCircuit(2)\n",
    "qc.x(1)\n",
    "psi = Statevector(qc)\n",
    "\n",
    "# Mostrar circuito con compuerta X\n",
    "display(qc.draw('mpl'))\n",
    "\n",
    "# Mostrar vector de estado\n",
    "print(\"🧪 Estado vectorial del sistema:\")\n",
    "display(array_to_latex(psi.data))\n",
    "\n",
    "# Mostrar en notación ket\n",
    "print(\"🧪 Estado en notación ket:\")\n",
    "display(psi.draw('latex'))\n"
   ]
  },
  {
   "cell_type": "markdown",
   "id": "701cc7f7-fa28-4526-b5f7-55c46a34f673",
   "metadata": {},
   "source": [
    "---\n",
    "\n",
    "### ✅ Explicación del resultado\n",
    "\n",
    "Al aplicar la compuerta **X al qubit 1**, el estado del sistema cambia de:\n",
    "\n",
    "$$\n",
    "|00⟩ \\quad \\longrightarrow \\quad |01⟩\n",
    "$$\n",
    "\n",
    "Esto significa que ahora:\n",
    "- El **qubit 1 (más significativo)** está en `|1⟩`\n",
    "- El **qubit 0 (menos significativo)** permanece en `|0⟩`\n",
    "\n",
    "Por tanto, el sistema está en el estado `|01⟩`.\n",
    "\n",
    "📌 En el vector de estado, la única amplitud distinta de cero está en la **segunda posición**, que representa `|01⟩` según el orden de Qiskit:\n",
    "\n",
    "$$\n",
    "[|00⟩,\\ |01⟩,\\ |10⟩,\\ |11⟩]\n",
    "$$\n"
   ]
  },
  {
   "cell_type": "code",
   "execution_count": null,
   "id": "75435daf-4a95-4053-a606-d15245e92d5e",
   "metadata": {},
   "outputs": [],
   "source": []
  }
 ],
 "metadata": {
  "kernelspec": {
   "display_name": "Python 3 (ipykernel)",
   "language": "python",
   "name": "python3"
  },
  "language_info": {
   "codemirror_mode": {
    "name": "ipython",
    "version": 3
   },
   "file_extension": ".py",
   "mimetype": "text/x-python",
   "name": "python",
   "nbconvert_exporter": "python",
   "pygments_lexer": "ipython3",
   "version": "3.13.2"
  }
 },
 "nbformat": 4,
 "nbformat_minor": 5
}
