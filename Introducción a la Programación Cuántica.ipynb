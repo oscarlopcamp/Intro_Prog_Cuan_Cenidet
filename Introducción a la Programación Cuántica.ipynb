{
 "cells": [
  {
   "cell_type": "markdown",
   "id": "44a9aa4b-56cd-42c3-b22c-6a7e97ff2a39",
   "metadata": {},
   "source": [
    "<center>\n",
    "\n",
    "# 🧠 Introducción a la Programación Cuántica\n",
    "\n",
    "### Introduccion a Programación Cuántica – CENIDET   \n",
    "Autor: **Oscar Alejandro López Campero**  \n",
    "Maestría en Ciencias de la Computación – Línea de Ingeniería de Software  \n",
    "Agosto 2025\n",
    "\n",
    "---\n",
    "\n",
    "</center>\n"
   ]
  },
  {
   "cell_type": "markdown",
   "id": "64b83b79-0cff-464c-9149-8a56c7ec85d3",
   "metadata": {},
   "source": [
    "## 📚 Contenido del Módulo: Programación Cuántica\n",
    "\n",
    "Este módulo se enfoca en introducir al estudiante en el uso de frameworks, plataformas y herramientas para comenzar a programar circuitos cuánticos básicos.\n",
    "\n",
    "---\n",
    "\n",
    "# 🧾 Temario\n",
    "\n",
    "1️⃣ **Construcción de circuitos cuánticos**  \n",
    "2️⃣ **Visualización del circuito**\n",
    "3️⃣ **Compuertas de un solo qubit**  \n",
    "4️⃣ **Ejercicios y experimentación básica**  \n"
   ]
  },
  {
   "cell_type": "markdown",
   "id": "f16e3095-83ec-443d-bfc8-f6773d11d757",
   "metadata": {},
   "source": [
    "## 5. Circuito Cuántico\n",
    "\n",
    "Antes de poder aplicar operaciones a los qubits, necesitamos colocarlos en una estructura que permita manipularlos: el **circuito cuántico**.\n",
    "\n",
    "Un circuito cuántico es un modelo fundamental de la computación cuántica. Al igual que los circuitos clásicos, representa una secuencia de operaciones sobre qubits: compuertas cuánticas, mediciones, inicializaciones y más.  \n",
    "\n",
    "\n",
    "📌 Visualmente, un circuito cuántico se representa así:\n",
    "\n",
    "- Las líneas **horizontales** son **qubits**.\n",
    "- Las líneas **dobles** son **bits clásicos**.\n",
    "- El **tiempo avanza** de izquierda a derecha.\n",
    "- Las **compuertas** se colocan sobre los qubits a lo largo de la línea horizontal."
   ]
  },
  {
   "cell_type": "markdown",
   "id": "12f6a2a8-34e7-4184-aa50-6cd64351cc98",
   "metadata": {},
   "source": [
    "![Circuito cuántico](https://quantum.cloud.ibm.com/assets-docs-learning/_next/image?url=%2Flearning%2Fimages%2Fcourses%2Fquantum-computing-in-practice%2Frunning-quantum-circuits%2Fsimplecircuit.avif&w=3840&q=75)\n"
   ]
  },
  {
   "cell_type": "markdown",
   "id": "67d67ec5-e38a-4ed9-a864-984f3fd74cd1",
   "metadata": {},
   "source": []
  }
 ],
 "metadata": {
  "kernelspec": {
   "display_name": "Python 3 (ipykernel)",
   "language": "python",
   "name": "python3"
  },
  "language_info": {
   "codemirror_mode": {
    "name": "ipython",
    "version": 3
   },
   "file_extension": ".py",
   "mimetype": "text/x-python",
   "name": "python",
   "nbconvert_exporter": "python",
   "pygments_lexer": "ipython3",
   "version": "3.13.2"
  }
 },
 "nbformat": 4,
 "nbformat_minor": 5
}
