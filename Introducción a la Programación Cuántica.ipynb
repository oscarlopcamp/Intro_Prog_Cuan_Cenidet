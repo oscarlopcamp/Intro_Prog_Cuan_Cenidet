{
 "cells": [
  {
   "cell_type": "markdown",
   "id": "44a9aa4b-56cd-42c3-b22c-6a7e97ff2a39",
   "metadata": {},
   "source": [
    "<center>\n",
    "\n",
    "# 🧠 Introducción a la Programación Cuántica\n",
    "\n",
    "### Introduccion a Programación Cuántica – CENIDET   \n",
    "Autor: **Oscar Alejandro López Campero**  \n",
    "Maestría en Ciencias de la Computación – Línea de Ingeniería de Software  \n",
    "Agosto 2025\n",
    "\n",
    "---\n",
    "\n",
    "</center>\n"
   ]
  },
  {
   "cell_type": "markdown",
   "id": "64b83b79-0cff-464c-9149-8a56c7ec85d3",
   "metadata": {},
   "source": [
    "## 📚 Contenido del Módulo: Programación Cuántica\n",
    "\n",
    "Este módulo se enfoca en introducir al estudiante en el uso de frameworks, plataformas y herramientas para comenzar a programar circuitos cuánticos básicos.\n",
    "\n",
    "---\n",
    "\n",
    "# 🧾 Temario\n",
    "\n",
    "1️⃣ **Construcción de circuitos cuánticos**  \n",
    "2️⃣ **Visualización del circuito**\n",
    "3️⃣ **Compuertas de un solo qubit**  \n",
    "4️⃣ **Ejercicios y experimentación básica**  \n"
   ]
  },
  {
   "cell_type": "markdown",
   "id": "f16e3095-83ec-443d-bfc8-f6773d11d757",
   "metadata": {},
   "source": [
    "## 1. Circuito Cuántico\n",
    "\n",
    "Antes de poder aplicar operaciones a los qubits, necesitamos colocarlos en una estructura que permita manipularlos: el **circuito cuántico**.\n",
    "\n",
    "Un circuito cuántico es un modelo fundamental de la computación cuántica. Al igual que los circuitos clásicos, representa una secuencia de operaciones sobre qubits: compuertas cuánticas, mediciones, inicializaciones y más.  \n",
    "\n",
    "\n",
    "📌 Visualmente, un circuito cuántico se representa así:\n",
    "\n",
    "- Las líneas **horizontales** son **qubits**.\n",
    "- Las líneas **dobles** son **bits clásicos**.\n",
    "- El **tiempo avanza** de izquierda a derecha.\n",
    "- Las **compuertas** se colocan sobre los qubits a lo largo de la línea horizontal."
   ]
  },
  {
   "cell_type": "markdown",
   "id": "12f6a2a8-34e7-4184-aa50-6cd64351cc98",
   "metadata": {},
   "source": [
    "![Circuito cuántico](https://quantum.cloud.ibm.com/assets-docs-learning/_next/image?url=%2Flearning%2Fimages%2Fcourses%2Fquantum-computing-in-practice%2Frunning-quantum-circuits%2Fsimplecircuit.avif&w=3840&q=75)\n"
   ]
  },
  {
   "cell_type": "markdown",
   "id": "67d67ec5-e38a-4ed9-a864-984f3fd74cd1",
   "metadata": {},
   "source": [
    "## 🔧 2. Visualización del circuito\n",
    "\n",
    "Veamos cómo incluir en un circuito uno de los qubits que creamos anteriormente. Usamos la clase `QuantumCircuit` de Qiskit para construir el circuito y luego lo visualizamos gráficamente.\n"
   ]
  },
  {
   "cell_type": "code",
   "execution_count": 6,
   "id": "4b471e05-f412-42bc-a05f-b72a626528c4",
   "metadata": {},
   "outputs": [
    {
     "data": {
      "image/png": "[encoded data removed]",
      "text/plain": [
       "<Figure size 143.647x117.056 with 1 Axes>"
      ]
     },
     "execution_count": 6,
     "metadata": {},
     "output_type": "execute_result"
    }
   ],
   "source": [
    "from qiskit import QuantumCircuit\n",
    "\n",
    "circuit = QuantumCircuit(1)  # Crear un circuito cuántico con 1 qubit\n",
    "\n",
    "circuit.draw('mpl')          # Mostramos la representación gráfica del circuito\n"
   ]
  },
  {
   "cell_type": "markdown",
   "id": "401e4e60-6e49-4368-9530-0eb5ee008e84",
   "metadata": {},
   "source": [
    "## ⚙️ Circuito con Múltiples Qubits y Bits Clásicos\n",
    "\n",
    "En el siguiente ejemplo se define un circuito cuántico con **3 qubits** y **2 bits clásicos**.  \n",
    "No es necesario crear los qubits usando `QuantumRegister`, basta con indicar el número de qubits y bits clásicos al inicializar el circuito.\n",
    "\n",
    "- El **qubit 0** se mide en el **bit clásico 1**.\n",
    "- El **qubit 2** se mide en el **bit clásico 0**.\n",
    "\n",
    "Más adelante analizaremos el efecto de estas operaciones.\n"
   ]
  },
  {
   "cell_type": "code",
   "execution_count": 8,
   "id": "301a375b-47ce-4743-b69b-cdb5bed9b83c",
   "metadata": {},
   "outputs": [
    {
     "data": {
      "image/png": "[encoded data removed]",
      "text/plain": [
       "<Figure size 538.33x367.889 with 1 Axes>"
      ]
     },
     "execution_count": 8,
     "metadata": {},
     "output_type": "execute_result"
    }
   ],
   "source": [
    "from qiskit import QuantumCircuit\n",
    "\n",
    "circ = QuantumCircuit(3, 2)   # Circuito con 3 qubits y 2 bits clásicos\n",
    "\n",
    "circ.h(0)           # Aplicar compuerta Hadamard al qubit 0\n",
    "circ.cx(0, 1)       # Aplicar compuerta CNOT entre qubit 0 (control) y 1 (objetivo)\n",
    "circ.cx(0, 2)       # Aplicar compuerta CNOT entre qubit 0 (control) y 2 (objetivo)\n",
    "\n",
    "circ.measure(0, 1)  # Medir el qubit 0 y guardar el resultado en el bit clásico 1\n",
    "circ.measure(2, 0)  # Medir el qubit 2 y guardar el resultado en el bit clásico 0\n",
    "\n",
    "circ.draw('mpl')    # Mostrar el circuito gráficamente\n"
   ]
  },
  {
   "cell_type": "markdown",
   "id": "2c2b843c-d1fc-43f7-82b4-f17b7deea86d",
   "metadata": {},
   "source": [
    "## 🎯 3. Compuertas de un Solo Qubit\n",
    "\n",
    "A continuación, aplicamos la compuerta **X** (también conocida como **NOT cuántica**) al único qubit de un circuito. Esta operación invierte el estado del qubit, similar a una compuerta NOT clásica.\n"
   ]
  },
  {
   "cell_type": "code",
   "execution_count": 10,
   "id": "ced23c09-d2e7-4b8a-8aeb-625a59f44e62",
   "metadata": {},
   "outputs": [
    {
     "data": {
      "image/png": "[encoded data removed]",
      "text/plain": [
       "<Figure size 185.453x117.056 with 1 Axes>"
      ]
     },
     "execution_count": 10,
     "metadata": {},
     "output_type": "execute_result"
    }
   ],
   "source": [
    "from qiskit import QuantumCircuit\n",
    "\n",
    "circ1 = QuantumCircuit(1)  # Circuito con 1 qubit\n",
    "\n",
    "circ1.x(0)                 # Aplicar compuerta X al qubit 0\n",
    "\n",
    "circ1.draw('mpl')          # Mostrar el circuito\n"
   ]
  },
  {
   "cell_type": "code",
   "execution_count": null,
   "id": "5b29d7d6-c35b-47a5-ac29-1d31992c150d",
   "metadata": {},
   "outputs": [],
   "source": []
  }
 ],
 "metadata": {
  "kernelspec": {
   "display_name": "Python 3 (ipykernel)",
   "language": "python",
   "name": "python3"
  },
  "language_info": {
   "codemirror_mode": {
    "name": "ipython",
    "version": 3
   },
   "file_extension": ".py",
   "mimetype": "text/x-python",
   "name": "python",
   "nbconvert_exporter": "python",
   "pygments_lexer": "ipython3",
   "version": "3.13.2"
  }
 },
 "nbformat": 4,
 "nbformat_minor": 5
}
