{
 "cells": [
  {
   "cell_type": "markdown",
   "id": "bc6903df-4e4f-459b-bfd4-ea0b89eba196",
   "metadata": {},
   "source": [
    "<center>\n",
    "\n",
    "# Introduccion a Programación Cuántica – CENIDET \n",
    "\n",
    "## 🧠 Mediciones en Qiskit 🧠\n",
    "Autor: **Oscar Alejandro López Campero**  \n",
    "Maestría en Ciencias de la Computación – Línea de Ingeniería de Software  \n",
    "Agosto 2025\n",
    "\n",
    "---\n",
    "\n",
    "</center>\n"
   ]
  },
  {
   "cell_type": "markdown",
   "id": "1c69cc62-0916-422c-9dea-5a2ee4272c5e",
   "metadata": {},
   "source": [
    "## 📚 Contenido del Módulo: Medición y Resultados en Circuitos Cuánticos\n",
    "\n",
    "En este módulo el estudiante aprenderá a interpretar los resultados de un circuito cuántico mediante **la medición de qubits**, comprendiendo cómo el estado cuántico colapsa a un valor clásico y cómo esto afecta la probabilidad de los resultados.\n",
    "\n",
    "Se explorarán las herramientas que ofrece Qiskit para simular mediciones, visualizar los resultados mediante histogramas y ejecutar experimentos repetidos (**shots**) para obtener distribuciones estadísticas.\n",
    "\n",
    "Este conocimiento es esencial para dar el siguiente paso hacia el diseño de algoritmos cuánticos reales, ya que **todo programa cuántico termina en una medición**.\n",
    "\n",
    "---\n",
    "\n",
    "## 🧾 Temario\n",
    "\n",
    "1️⃣ **Fundamentos de la medición cuántica**  \n",
    "2️⃣ **Cómo agregar mediciones en Qiskit**  \n",
    "3️⃣ **Ejemplo: medición de un qubit en estado base**  \n",
    "4️⃣ **Medición de un qubit en superposición**  \n",
    "5️⃣ **Visualización de resultados con histogramas**  \n",
    "6️⃣ **Medición en sistemas de múltiples qubits**  \n",
    "7️⃣ **Interpretación estadística y colapso del estado**  \n",
    "8️⃣ **Ejercicios y experimentación**\n",
    "\n",
    "---\n"
   ]
  },
  {
   "cell_type": "markdown",
   "id": "2d285d93-3ca8-4ecf-9f81-19b01a7d572f",
   "metadata": {},
   "source": [
    "---\n",
    "\n",
    "## ⚙️ Sección 1 – Fundamentos de la medición cuántica\n",
    "\n",
    "En computación cuántica, **medir un qubit** significa observar su estado y obtener como resultado un valor clásico:  \n",
    "- `0` si el qubit colapsa al estado `|0⟩`  \n",
    "- `1` si colapsa al estado `|1⟩`\n",
    "\n",
    "> ⚠️ La medición **colapsa** el estado cuántico: una vez que se mide, el qubit ya no está en superposición.\n",
    "\n",
    "Antes de la medición, un qubit puede estar en un estado como:\n",
    "$$\n",
    "|ψ⟩ = α|0⟩ + β|1⟩\n",
    "$$\n",
    "\n",
    "\n",
    "Donde:\n",
    "- `|α|²` es la **probabilidad** de medir un `0`  \n",
    "- `|β|²` es la **probabilidad** de medir un `1`\n",
    "\n",
    "El resultado que obtienes al medir un qubit **es aleatorio**, pero obedece a esas probabilidades.  \n",
    "Por eso en Qiskit ejecutamos los circuitos muchas veces (llamados **shots**) para obtener una distribución confiable.\n",
    "\n",
    "---\n",
    "\n",
    "🧪 En resumen:\n",
    "\n",
    "- La medición convierte un estado cuántico en un valor clásico.\n",
    "- Colapsa la superposición, eliminando la coherencia.\n",
    "- Los resultados siguen una distribución probabilística.\n",
    "- Se representa en Qiskit con `qc.measure(...)`.\n",
    "\n",
    "---\n"
   ]
  },
  {
   "cell_type": "markdown",
   "id": "22042277-2928-41f3-a942-2be58c7814df",
   "metadata": {},
   "source": [
    "## 🧪 Sección 2 – Cómo agregar mediciones en Qiskit"
   ]
  },
  {
   "cell_type": "markdown",
   "id": "c0e36f4b-9abc-4234-888c-34f6929c2dd7",
   "metadata": {},
   "source": [
    "En los circuitos cuánticos, las mediciones son el puente entre el mundo cuántico y el clásico.\n",
    "\n",
    "Medir un qubit significa colapsar su estado cuántico a uno de los dos posibles resultados clásicos: 0 o 1.\n"
   ]
  },
  {
   "cell_type": "markdown",
   "id": "0aa76a64-011c-4c94-9f59-680f23b6ae90",
   "metadata": {},
   "source": [
    "Qiskit permite agregar mediciones explícitamente usando el método `.measure()`.\n",
    "\n",
    "Este método conecta un qubit con un bit clásico, y guarda el resultado de la medición en ese bit clásico.\n"
   ]
  },
  {
   "cell_type": "markdown",
   "id": "9e8d39ef-26f0-4800-a57c-8f8fc5c9fa26",
   "metadata": {},
   "source": [
    "En esta sección aprenderemos cómo:\n",
    "\n",
    "- Agregar una medición a un circuito cuántico\n",
    "- Visualizar el circuito con la operación de medición\n",
    "- Ejecutar el circuito en un simulador y obtener resultados\n",
    "- Interpretar los resultados de la medición\n"
   ]
  },
  {
   "cell_type": "code",
   "execution_count": null,
   "id": "4063757b-7ecf-4b73-a15a-e634cb21211e",
   "metadata": {},
   "outputs": [],
   "source": []
  }
 ],
 "metadata": {
  "kernelspec": {
   "display_name": "Python 3 (ipykernel)",
   "language": "python",
   "name": "python3"
  },
  "language_info": {
   "codemirror_mode": {
    "name": "ipython",
    "version": 3
   },
   "file_extension": ".py",
   "mimetype": "text/x-python",
   "name": "python",
   "nbconvert_exporter": "python",
   "pygments_lexer": "ipython3",
   "version": "3.11.9"
  }
 },
 "nbformat": 4,
 "nbformat_minor": 5
}
