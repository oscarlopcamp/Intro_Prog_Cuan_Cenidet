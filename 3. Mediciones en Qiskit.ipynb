{
 "cells": [
  {
   "cell_type": "markdown",
   "id": "bc6903df-4e4f-459b-bfd4-ea0b89eba196",
   "metadata": {},
   "source": [
    "<center>\n",
    "\n",
    "# Introduccion a Programación Cuántica – CENIDET \n",
    "\n",
    "## 🧠 Mediciones en Qiskit 🧠\n",
    "Autor: **Oscar Alejandro López Campero**  \n",
    "Maestría en Ciencias de la Computación – Línea de Ingeniería de Software  \n",
    "Agosto 2025\n",
    "\n",
    "---\n",
    "\n",
    "</center>\n"
   ]
  },
  {
   "cell_type": "markdown",
   "id": "1c69cc62-0916-422c-9dea-5a2ee4272c5e",
   "metadata": {},
   "source": [
    "## 📚 Contenido del Módulo: Medición y Resultados en Circuitos Cuánticos\n",
    "\n",
    "En este módulo el estudiante aprenderá a interpretar los resultados de un circuito cuántico mediante **la medición de qubits**, comprendiendo cómo el estado cuántico colapsa a un valor clásico y cómo esto afecta la probabilidad de los resultados.\n",
    "\n",
    "Se explorarán las herramientas que ofrece Qiskit para simular mediciones, visualizar los resultados mediante histogramas y ejecutar experimentos repetidos (**shots**) para obtener distribuciones estadísticas.\n",
    "\n",
    "Este conocimiento es esencial para dar el siguiente paso hacia el diseño de algoritmos cuánticos reales, ya que **todo programa cuántico termina en una medición**.\n",
    "\n",
    "---\n",
    "\n",
    "## 🧾 Temario\n",
    "\n",
    "1️⃣ **Fundamentos de la medición cuántica**  \n",
    "2️⃣ **Cómo agregar mediciones en Qiskit**  \n",
    "3️⃣ **Ejemplo: medición de un qubit en estado base**  \n",
    "4️⃣ **Medición de un qubit en superposición**  \n",
    "5️⃣ **Visualización de resultados con histogramas**  \n",
    "6️⃣ **Medición en sistemas de múltiples qubits**  \n",
    "7️⃣ **Interpretación estadística y colapso del estado**  \n",
    "8️⃣ **Ejercicios y experimentación**\n",
    "\n",
    "---\n"
   ]
  },
  {
   "cell_type": "markdown",
   "id": "2d285d93-3ca8-4ecf-9f81-19b01a7d572f",
   "metadata": {},
   "source": [
    "---\n",
    "\n",
    "## ⚙️ Sección 1 – Fundamentos de la medición cuántica\n",
    "\n",
    "En computación cuántica, **medir un qubit** significa observar su estado y obtener como resultado un valor clásico:  \n",
    "- `0` si el qubit colapsa al estado `|0⟩`  \n",
    "- `1` si colapsa al estado `|1⟩`\n",
    "\n",
    "> ⚠️ La medición **colapsa** el estado cuántico: una vez que se mide, el qubit ya no está en superposición.\n",
    "\n",
    "Antes de la medición, un qubit puede estar en un estado como:\n",
    "$$\n",
    "|ψ⟩ = α|0⟩ + β|1⟩\n",
    "$$\n",
    "\n",
    "\n",
    "Donde:\n",
    "- `|α|²` es la **probabilidad** de medir un `0`  \n",
    "- `|β|²` es la **probabilidad** de medir un `1`\n",
    "\n",
    "El resultado que obtienes al medir un qubit **es aleatorio**, pero obedece a esas probabilidades.  \n",
    "Por eso en Qiskit ejecutamos los circuitos muchas veces (llamados **shots**) para obtener una distribución confiable.\n",
    "\n",
    "---\n",
    "\n",
    "🧪 En resumen:\n",
    "\n",
    "- La medición convierte un estado cuántico en un valor clásico.\n",
    "- Colapsa la superposición, eliminando la coherencia.\n",
    "- Los resultados siguen una distribución probabilística.\n",
    "- Se representa en Qiskit con `qc.measure(...)`.\n",
    "\n",
    "---\n"
   ]
  },
  {
   "cell_type": "markdown",
   "id": "22042277-2928-41f3-a942-2be58c7814df",
   "metadata": {},
   "source": [
    "## 🧪 Sección 2 – Cómo agregar mediciones en Qiskit"
   ]
  },
  {
   "cell_type": "markdown",
   "id": "c0e36f4b-9abc-4234-888c-34f6929c2dd7",
   "metadata": {},
   "source": [
    "En los circuitos cuánticos, las mediciones son el puente entre el mundo cuántico y el clásico.\n",
    "\n",
    "Medir un qubit significa colapsar su estado cuántico a uno de los dos posibles resultados clásicos: 0 o 1.\n"
   ]
  },
  {
   "cell_type": "markdown",
   "id": "0aa76a64-011c-4c94-9f59-680f23b6ae90",
   "metadata": {},
   "source": [
    "Qiskit permite agregar mediciones explícitamente usando el método `.measure()`.\n",
    "\n",
    "Este método conecta un qubit con un bit clásico, y guarda el resultado de la medición en ese bit clásico.\n"
   ]
  },
  {
   "cell_type": "markdown",
   "id": "9e8d39ef-26f0-4800-a57c-8f8fc5c9fa26",
   "metadata": {},
   "source": [
    "En esta sección aprenderemos cómo:\n",
    "\n",
    "- Agregar una medición a un circuito cuántico\n",
    "- Visualizar el circuito con la operación de medición\n",
    "- Ejecutar el circuito en un simulador y obtener resultados\n",
    "- Interpretar los resultados de la medición\n"
   ]
  },
  {
   "cell_type": "code",
   "execution_count": 2,
   "id": "4063757b-7ecf-4b73-a15a-e634cb21211e",
   "metadata": {},
   "outputs": [
    {
     "data": {
      "image/png": "[encoded data removed]",
      "text/plain": [
       "<Figure size 269.064x200.667 with 1 Axes>"
      ]
     },
     "execution_count": 2,
     "metadata": {},
     "output_type": "execute_result"
    }
   ],
   "source": [
    "from qiskit import QuantumCircuit\n",
    "\n",
    "# Crear un circuito cuántico con 1 qubit y 1 bit clásico\n",
    "qc = QuantumCircuit(1, 1)\n",
    "\n",
    "# Aplicar compuerta X para poner el qubit en estado |1⟩\n",
    "qc.x(0)\n",
    "\n",
    "# Medir el qubit 0 y guardar el resultado en el bit clásico 0\n",
    "qc.measure(0, 0)\n",
    "\n",
    "# Mostrar el circuito\n",
    "qc.draw('mpl')\n"
   ]
  },
  {
   "cell_type": "markdown",
   "id": "c0f847ed-3a17-4453-be68-55131ced1903",
   "metadata": {},
   "source": [
    "### 🔍 ¿Qué vemos en el diagrama del circuito?\n",
    "\n",
    "El circuito mostrado contiene **1 qubit** (`q0`) y **1 bit clásico** (`c0`). Visualmente se representa como dos líneas horizontales:  \n",
    "- La **línea superior** corresponde al **qubit q0**  \n",
    "- La **línea inferior** corresponde al **bit clásico c0**\n",
    "\n",
    "Los elementos que aparecen en el diagrama son:\n",
    "\n",
    "- `x`: Compuerta X (NOT cuántico) aplicada al qubit `q0`. Cambia su estado de `|0⟩` a `|1⟩`.\n",
    "- `measure`: Símbolo de medición que indica que se realiza una medición sobre el qubit `q0`.\n",
    "- **Conexión hacia `c0`**: La medición del qubit se guarda en el bit clásico `c0`, mostrando la transición del mundo cuántico al mundo clásico.\n",
    "\n",
    "🔁 En este caso, como aplicamos la compuerta `X` antes de medir, el estado cuántico final del qubit es `|1⟩`.  \n",
    "Por lo tanto, **el resultado clásico medido será siempre `1`**.\n"
   ]
  },
  {
   "cell_type": "markdown",
   "id": "88d8eb95-9469-404d-a5b9-4bbca4e0189a",
   "metadata": {},
   "source": [
    "### ▶️ Ejecutar el circuito y visualizar resultados\n",
    "\n",
    "Una vez que tenemos un circuito con medición, es momento de **simularlo** y observar qué resultado obtenemos al medir el qubit.\n",
    "\n",
    "En este ejemplo, usaremos el simulador `BasicSimulator` de Qiskit, que permite ejecutar el circuito de forma simple sin dependencias externas. Ejecutaremos el circuito **1024 veces** y contaremos cuántas veces se obtiene cada posible resultado (0 o 1).\n",
    "\n",
    "Usamos las siguientes funciones de Qiskit:\n",
    "\n",
    "- `BasicSimulator()`: crea un simulador clásico que ejecuta circuitos cuánticos y produce resultados probabilísticos.\n",
    "- `simulator.run(circuito, shots=1024)`: ejecuta el circuito 1024 veces para recolectar estadísticas sobre las mediciones.\n",
    "- `result.get_counts()`: obtiene un diccionario con los resultados de la medición, donde las claves son los estados medidos (como \"0\" o \"1\") y los valores indican cuántas veces se midió cada uno.\n",
    "- `plot_histogram(counts)`: genera un histograma que muestra visualmente la frecuencia con la que aparece cada estado medido.\n",
    "\n",
    "Este tipo de simulación nos ayuda a **comprender la naturaleza probabilística** de los sistemas cuánticos una vez que se realiza una medición.\n"
   ]
  },
  {
   "cell_type": "code",
   "execution_count": 5,
   "id": "6af93c63-2084-4886-9bf1-7cf2151497cc",
   "metadata": {},
   "outputs": [
    {
     "data": {
      "image/png": "[encoded data removed]",
      "text/plain": [
       "<Figure size 640x480 with 1 Axes>"
      ]
     },
     "execution_count": 5,
     "metadata": {},
     "output_type": "execute_result"
    }
   ],
   "source": [
    "# Importar componentes actualizados\n",
    "from qiskit import QuantumCircuit\n",
    "from qiskit.providers.basic_provider import BasicSimulator\n",
    "from qiskit.visualization import plot_histogram\n",
    "\n",
    "# Crear circuito con una compuerta Hadamard y medición\n",
    "qc = QuantumCircuit(1, 1)\n",
    "qc.x(0)\n",
    "qc.measure(0, 0)\n",
    "\n",
    "# Usar BasicSimulator (proveedor básico moderno)\n",
    "simulator = BasicSimulator()\n",
    "job = simulator.run(qc, shots=1024)\n",
    "result = job.result()\n",
    "counts = result.get_counts()\n",
    "\n",
    "# Mostrar resultados\n",
    "plot_histogram(counts)\n"
   ]
  },
  {
   "cell_type": "code",
   "execution_count": null,
   "id": "fc2a39b4-1405-4470-8b21-514c6299c2fc",
   "metadata": {},
   "outputs": [],
   "source": []
  }
 ],
 "metadata": {
  "kernelspec": {
   "display_name": "Python 3 (ipykernel)",
   "language": "python",
   "name": "python3"
  },
  "language_info": {
   "codemirror_mode": {
    "name": "ipython",
    "version": 3
   },
   "file_extension": ".py",
   "mimetype": "text/x-python",
   "name": "python",
   "nbconvert_exporter": "python",
   "pygments_lexer": "ipython3",
   "version": "3.13.6"
  }
 },
 "nbformat": 4,
 "nbformat_minor": 5
}
