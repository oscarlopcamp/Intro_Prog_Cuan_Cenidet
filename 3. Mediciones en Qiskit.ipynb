{
 "cells": [
  {
   "cell_type": "markdown",
   "id": "bc6903df-4e4f-459b-bfd4-ea0b89eba196",
   "metadata": {},
   "source": [
    "<center>\n",
    "\n",
    "# Introduccion a Programación Cuántica – CENIDET \n",
    "\n",
    "## 🧠 Mediciones en Qiskit 🧠\n",
    "Autor: **Oscar Alejandro López Campero**  \n",
    "Maestría en Ciencias de la Computación – Línea de Ingeniería de Software  \n",
    "Agosto 2025\n",
    "\n",
    "---\n",
    "\n",
    "</center>\n"
   ]
  },
  {
   "cell_type": "markdown",
   "id": "1c69cc62-0916-422c-9dea-5a2ee4272c5e",
   "metadata": {},
   "source": [
    "## 📚 Contenido del Módulo: Medición y Resultados en Circuitos Cuánticos\n",
    "\n",
    "En este módulo el estudiante aprenderá a interpretar los resultados de un circuito cuántico mediante **la medición de qubits**, comprendiendo cómo el estado cuántico colapsa a un valor clásico y cómo esto afecta la probabilidad de los resultados.\n",
    "\n",
    "Se explorarán las herramientas que ofrece Qiskit para simular mediciones, visualizar los resultados mediante histogramas y ejecutar experimentos repetidos (**shots**) para obtener distribuciones estadísticas.\n",
    "\n",
    "Este conocimiento es esencial para dar el siguiente paso hacia el diseño de algoritmos cuánticos reales, ya que **todo programa cuántico termina en una medición**.\n",
    "\n",
    "---\n",
    "\n",
    "## 🧾 Temario\n",
    "\n",
    "1️⃣ **Fundamentos de la medición cuántica**  \n",
    "2️⃣ **Cómo agregar mediciones en Qiskit**  \n",
    "3️⃣ **Ejemplo: medición de un qubit en estado base**  \n",
    "4️⃣ **Medición de un qubit en superposición**  \n",
    "5️⃣ **Visualización de resultados con histogramas**  \n",
    "6️⃣ **Medición en sistemas de múltiples qubits**  \n",
    "7️⃣ **Interpretación estadística y colapso del estado**  \n",
    "8️⃣ **Ejercicios y experimentación**\n",
    "\n",
    "---\n"
   ]
  },
  {
   "cell_type": "markdown",
   "id": "2d285d93-3ca8-4ecf-9f81-19b01a7d572f",
   "metadata": {},
   "source": [
    "---\n",
    "\n",
    "## ⚙️ Sección 1 – Fundamentos de la medición cuántica\n",
    "\n",
    "En computación cuántica, **medir un qubit** significa observar su estado y obtener como resultado un valor clásico:  \n",
    "- `0` si el qubit colapsa al estado `|0⟩`  \n",
    "- `1` si colapsa al estado `|1⟩`\n",
    "\n",
    "> ⚠️ La medición **colapsa** el estado cuántico: una vez que se mide, el qubit ya no está en superposición.\n",
    "\n",
    "Antes de la medición, un qubit puede estar en un estado como:\n",
    "$$\n",
    "|ψ⟩ = α|0⟩ + β|1⟩\n",
    "$$\n",
    "\n",
    "\n",
    "Donde:\n",
    "- `|α|²` es la **probabilidad** de medir un `0`  \n",
    "- `|β|²` es la **probabilidad** de medir un `1`\n",
    "\n",
    "El resultado que obtienes al medir un qubit **es aleatorio**, pero obedece a esas probabilidades.  \n",
    "Por eso en Qiskit ejecutamos los circuitos muchas veces (llamados **shots**) para obtener una distribución confiable.\n",
    "\n",
    "---\n",
    "\n",
    "🧪 En resumen:\n",
    "\n",
    "- La medición convierte un estado cuántico en un valor clásico.\n",
    "- Colapsa la superposición, eliminando la coherencia.\n",
    "- Los resultados siguen una distribución probabilística.\n",
    "- Se representa en Qiskit con `qc.measure(...)`.\n",
    "\n",
    "---\n"
   ]
  },
  {
   "cell_type": "markdown",
   "id": "22042277-2928-41f3-a942-2be58c7814df",
   "metadata": {},
   "source": [
    "## 🧪 Sección 2 – Cómo agregar mediciones en Qiskit"
   ]
  },
  {
   "cell_type": "markdown",
   "id": "c0e36f4b-9abc-4234-888c-34f6929c2dd7",
   "metadata": {},
   "source": [
    "En los circuitos cuánticos, las mediciones son el puente entre el mundo cuántico y el clásico.\n",
    "\n",
    "Medir un qubit significa colapsar su estado cuántico a uno de los dos posibles resultados clásicos: 0 o 1.\n"
   ]
  },
  {
   "cell_type": "markdown",
   "id": "0aa76a64-011c-4c94-9f59-680f23b6ae90",
   "metadata": {},
   "source": [
    "Qiskit permite agregar mediciones explícitamente usando el método `.measure()`.\n",
    "\n",
    "Este método conecta un qubit con un bit clásico, y guarda el resultado de la medición en ese bit clásico.\n"
   ]
  },
  {
   "cell_type": "markdown",
   "id": "9e8d39ef-26f0-4800-a57c-8f8fc5c9fa26",
   "metadata": {},
   "source": [
    "En esta sección aprenderemos cómo:\n",
    "\n",
    "- Agregar una medición a un circuito cuántico\n",
    "- Visualizar el circuito con la operación de medición\n",
    "- Ejecutar el circuito en un simulador y obtener resultados\n",
    "- Interpretar los resultados de la medición\n"
   ]
  },
  {
   "cell_type": "code",
   "execution_count": 2,
   "id": "4063757b-7ecf-4b73-a15a-e634cb21211e",
   "metadata": {},
   "outputs": [
    {
     "data": {
      "image/png": "[encoded data removed]",
      "text/plain": [
       "<Figure size 269.064x200.667 with 1 Axes>"
      ]
     },
     "execution_count": 2,
     "metadata": {},
     "output_type": "execute_result"
    }
   ],
   "source": [
    "from qiskit import QuantumCircuit\n",
    "\n",
    "# Crear un circuito cuántico con 1 qubit y 1 bit clásico\n",
    "qc = QuantumCircuit(1, 1)\n",
    "\n",
    "# Aplicar compuerta X para poner el qubit en estado |1⟩\n",
    "qc.x(0)\n",
    "\n",
    "# Medir el qubit 0 y guardar el resultado en el bit clásico 0\n",
    "qc.measure(0, 0)\n",
    "\n",
    "# Mostrar el circuito\n",
    "qc.draw('mpl')\n"
   ]
  },
  {
   "cell_type": "markdown",
   "id": "c0f847ed-3a17-4453-be68-55131ced1903",
   "metadata": {},
   "source": [
    "### 🔍 ¿Qué vemos en el diagrama del circuito?\n",
    "\n",
    "El circuito mostrado contiene **1 qubit** (`q0`) y **1 bit clásico** (`c0`). Visualmente se representa como dos líneas horizontales:  \n",
    "- La **línea superior** corresponde al **qubit q0**  \n",
    "- La **línea inferior** corresponde al **bit clásico c0**\n",
    "\n",
    "Los elementos que aparecen en el diagrama son:\n",
    "\n",
    "- `x`: Compuerta X (NOT cuántico) aplicada al qubit `q0`. Cambia su estado de `|0⟩` a `|1⟩`.\n",
    "- `measure`: Símbolo de medición que indica que se realiza una medición sobre el qubit `q0`.\n",
    "- **Conexión hacia `c0`**: La medición del qubit se guarda en el bit clásico `c0`, mostrando la transición del mundo cuántico al mundo clásico.\n",
    "\n",
    "🔁 En este caso, como aplicamos la compuerta `X` antes de medir, el estado cuántico final del qubit es `|1⟩`.  \n",
    "Por lo tanto, **el resultado clásico medido será siempre `1`**.\n"
   ]
  },
  {
   "cell_type": "markdown",
   "id": "88d8eb95-9469-404d-a5b9-4bbca4e0189a",
   "metadata": {},
   "source": [
    "### ▶️ Ejecutar el circuito y visualizar resultados\n",
    "\n",
    "Una vez que tenemos un circuito con medición, es momento de **simularlo** y observar qué resultado obtenemos al medir el qubit.\n",
    "\n",
    "En este ejemplo, usaremos el simulador `BasicSimulator` de Qiskit, que permite ejecutar el circuito de forma simple sin dependencias externas. Ejecutaremos el circuito **1024 veces** y contaremos cuántas veces se obtiene cada posible resultado (0 o 1).\n",
    "\n",
    "Usamos las siguientes funciones de Qiskit:\n",
    "\n",
    "- `BasicSimulator()`: crea un simulador clásico que ejecuta circuitos cuánticos y produce resultados probabilísticos.\n",
    "- `simulator.run(circuito, shots=1024)`: ejecuta el circuito 1024 veces para recolectar estadísticas sobre las mediciones.\n",
    "- `result.get_counts()`: obtiene un diccionario con los resultados de la medición, donde las claves son los estados medidos (como \"0\" o \"1\") y los valores indican cuántas veces se midió cada uno.\n",
    "- `plot_histogram(counts)`: genera un histograma que muestra visualmente la frecuencia con la que aparece cada estado medido.\n",
    "\n",
    "Este tipo de simulación nos ayuda a **comprender la naturaleza probabilística** de los sistemas cuánticos una vez que se realiza una medición.\n"
   ]
  },
  {
   "cell_type": "code",
   "execution_count": 5,
   "id": "6af93c63-2084-4886-9bf1-7cf2151497cc",
   "metadata": {},
   "outputs": [
    {
     "data": {
      "image/png": "[encoded data removed]",
      "text/plain": [
       "<Figure size 640x480 with 1 Axes>"
      ]
     },
     "execution_count": 5,
     "metadata": {},
     "output_type": "execute_result"
    }
   ],
   "source": [
    "# Importar componentes actualizados\n",
    "from qiskit import QuantumCircuit\n",
    "from qiskit.providers.basic_provider import BasicSimulator\n",
    "from qiskit.visualization import plot_histogram\n",
    "\n",
    "# Crear circuito con una compuerta Hadamard y medición\n",
    "qc = QuantumCircuit(1, 1)\n",
    "qc.x(0)\n",
    "qc.measure(0, 0)\n",
    "\n",
    "# Usar BasicSimulator (proveedor básico moderno)\n",
    "simulator = BasicSimulator()\n",
    "job = simulator.run(qc, shots=1024)\n",
    "result = job.result()\n",
    "counts = result.get_counts()\n",
    "\n",
    "# Mostrar resultados\n",
    "plot_histogram(counts)\n"
   ]
  },
  {
   "cell_type": "markdown",
   "id": "d0076e9c-4e5d-423c-9e3a-ad3a3d5d2329",
   "metadata": {},
   "source": [
    "## 📌 Ejemplo: Compuerta Hadamard y Medición\n",
    "\n",
    "En este ejemplo aplicaremos una **compuerta Hadamard** al qubit para colocarlo en **superposición**, y luego realizaremos una **medición** para observar los resultados posibles.\n",
    "\n",
    "La compuerta Hadamard transforma el estado |0⟩ en una superposición entre |0⟩ y |1⟩.  \n",
    "Al medir este estado, se colapsa a uno de los dos resultados con una **probabilidad del 50%** cada uno (idealmente).\n",
    "\n",
    "Este experimento nos permite observar **el comportamiento probabilístico de un sistema cuántico** al aplicar una compuerta antes de medir.\n"
   ]
  },
  {
   "cell_type": "code",
   "execution_count": 1,
   "id": "b97e9ddf-8736-47c5-a3b6-2f817c5183ab",
   "metadata": {},
   "outputs": [
    {
     "data": {
      "image/png": "[encoded data removed]",
      "text/plain": [
       "<Figure size 269.064x200.667 with 1 Axes>"
      ]
     },
     "execution_count": 1,
     "metadata": {},
     "output_type": "execute_result"
    }
   ],
   "source": [
    "from qiskit import QuantumCircuit\n",
    "from qiskit.providers.basic_provider import BasicSimulator\n",
    "from qiskit.visualization import plot_histogram\n",
    "import matplotlib.pyplot as plt\n",
    "\n",
    "# Crear circuito con 1 qubit y 1 bit clásico\n",
    "qc = QuantumCircuit(1, 1)\n",
    "\n",
    "# Aplicar compuerta Hadamard al qubit\n",
    "qc.h(0)\n",
    "\n",
    "# Medir el qubit 0\n",
    "qc.measure(0, 0)\n",
    "\n",
    "# Mostrar diagrama del circuito\n",
    "qc.draw('mpl')\n"
   ]
  },
  {
   "cell_type": "code",
   "execution_count": 8,
   "id": "c1d27dab-c698-429e-be07-691a465bcfe5",
   "metadata": {},
   "outputs": [
    {
     "data": {
      "image/png": "[encoded data removed]",
      "text/plain": [
       "<Figure size 640x480 with 1 Axes>"
      ]
     },
     "execution_count": 8,
     "metadata": {},
     "output_type": "execute_result"
    }
   ],
   "source": [
    "# Importar componentes actualizados\n",
    "from qiskit import QuantumCircuit\n",
    "from qiskit.providers.basic_provider import BasicSimulator\n",
    "from qiskit.visualization import plot_histogram\n",
    "\n",
    "# Crear circuito con una compuerta Hadamard y medición\n",
    "qc = QuantumCircuit(1, 1)\n",
    "qc.h(0)\n",
    "qc.measure(0, 0)\n",
    "\n",
    "# Usar BasicSimulator (proveedor básico moderno)\n",
    "simulator = BasicSimulator()\n",
    "job = simulator.run(qc, shots=1024)\n",
    "result = job.result()\n",
    "counts = result.get_counts()\n",
    "\n",
    "# Mostrar resultados\n",
    "plot_histogram(counts)"
   ]
  },
  {
   "cell_type": "markdown",
   "id": "f7ca9d05-e379-438d-b3a9-b1cd114f7707",
   "metadata": {},
   "source": [
    "## 🧠 ¿Qué observamos?\n",
    "\n",
    "Después de aplicar la compuerta Hadamard, el qubit tiene **probabilidad de colapsar a |0⟩ o a |1⟩** cuando se mide.\n",
    "\n",
    "El histograma nos muestra la distribución de resultados tras simular el circuito 1024 veces.  \n",
    "Idealmente, veremos que los resultados están distribuidos casi por igual entre ambos valores, evidenciando la **naturaleza probabilística de la mecánica cuántica**.\n",
    "\n",
    "Este tipo de análisis es clave para entender cómo los algoritmos cuánticos manipulan las probabilidades antes de medir.\n"
   ]
  },
  {
   "cell_type": "markdown",
   "id": "6b9596f4-95f2-4e7e-8585-9856180869cb",
   "metadata": {},
   "source": [
    "# 🔍 Sección 3.3 – Comparación: pocos vs muchos shots en la medición\n",
    "\n",
    "En esta sección exploraremos cómo el **número de repeticiones (shots)** en una simulación cuántica **afecta los resultados de la medición**.  \n",
    "Usaremos un circuito sencillo que pone al qubit en superposición con una compuerta **Hadamard** y lo mediremos con diferentes cantidades de ejecuciones.\n",
    "\n",
    "Este análisis es clave para comprender el **comportamiento probabilístico** de los sistemas cuánticos y cómo se estabilizan los resultados con más repeticiones.\n"
   ]
  },
  {
   "cell_type": "markdown",
   "id": "aa29810e-dc95-4c67-abc6-549c1ff4e4f0",
   "metadata": {},
   "source": [
    "### ⚙️ Circuito cuántico base\n",
    "\n",
    "El siguiente circuito aplica una compuerta **Hadamard** al qubit 0, lo cual genera una superposición equitativa entre los estados |0⟩ y |1⟩.  \n",
    "Luego, se mide ese qubit y se guarda el resultado en un bit clásico.\n",
    "\n",
    "Este circuito será la base para las simulaciones con diferentes cantidades de shots.\n"
   ]
  },
  {
   "cell_type": "code",
   "execution_count": 9,
   "id": "9561eb4c-81d2-48ee-8d6e-af9e13d941bc",
   "metadata": {},
   "outputs": [
    {
     "data": {
      "image/png": "[encoded data removed]",
      "text/plain": [
       "<Figure size 269.064x200.667 with 1 Axes>"
      ]
     },
     "execution_count": 9,
     "metadata": {},
     "output_type": "execute_result"
    }
   ],
   "source": [
    "# Crear el circuito base\n",
    "from qiskit import QuantumCircuit\n",
    "\n",
    "qc = QuantumCircuit(1, 1)\n",
    "qc.h(0)\n",
    "qc.measure(0, 0)\n",
    "\n",
    "qc.draw('mpl')\n"
   ]
  },
  {
   "cell_type": "markdown",
   "id": "11c79881-4bdb-4bb2-b732-8cb58bbffb4a",
   "metadata": {},
   "source": [
    "### 📉 Simulación con pocos shots (10)\n",
    "\n",
    "En esta simulación ejecutamos el circuito únicamente **10 veces**, lo cual puede generar **resultados aleatorios** no representativos de las verdaderas probabilidades cuánticas.\n",
    "\n",
    "Esto nos ayuda a visualizar cómo el número de ejecuciones afecta la estabilidad de los resultados.\n"
   ]
  },
  {
   "cell_type": "code",
   "execution_count": 11,
   "id": "34706b8e-a554-4097-a733-fb7abae2e1ba",
   "metadata": {},
   "outputs": [
    {
     "data": {
      "image/png": "[encoded data removed]",
      "text/plain": [
       "<Figure size 640x480 with 1 Axes>"
      ]
     },
     "execution_count": 11,
     "metadata": {},
     "output_type": "execute_result"
    }
   ],
   "source": [
    "from qiskit.providers.basic_provider import BasicSimulator\n",
    "from qiskit.visualization import plot_histogram\n",
    "\n",
    "# Simulación con pocos shots\n",
    "simulator = BasicSimulator()\n",
    "job_10 = simulator.run(qc, shots=10)\n",
    "result_10 = job_10.result()\n",
    "counts_10 = result_10.get_counts()\n",
    "\n",
    "plot_histogram(counts_10, title=\"Histograma con 10 shots\")\n"
   ]
  },
  {
   "cell_type": "markdown",
   "id": "679a2adf-b8f5-41a8-beaa-82e160f50526",
   "metadata": {},
   "source": [
    "### 📈 Simulación con muchos shots (5000)\n",
    "\n",
    "En esta simulación ejecutamos el mismo circuito, pero ahora **5000 veces**.  \n",
    "Con esta cantidad de ejecuciones, se espera que los resultados se **acercan a las probabilidades teóricas esperadas**.\n",
    "\n",
    "Como la compuerta Hadamard sobre el estado |0⟩ genera una distribución 50%-50%, el histograma debería mostrar ambos valores con frecuencias similares.\n"
   ]
  },
  {
   "cell_type": "code",
   "execution_count": 13,
   "id": "89a3ee81-0c1e-41fa-8abd-63693204eadb",
   "metadata": {},
   "outputs": [
    {
     "data": {
      "image/png": "[encoded data removed]",
      "text/plain": [
       "<Figure size 640x480 with 1 Axes>"
      ]
     },
     "execution_count": 13,
     "metadata": {},
     "output_type": "execute_result"
    }
   ],
   "source": [
    "# Simulación con muchos shots\n",
    "job_5000 = simulator.run(qc, shots=5000)\n",
    "result_5000 = job_5000.result()\n",
    "counts_5000 = result_5000.get_counts()\n",
    "\n",
    "plot_histogram(counts_5000, title=\"Histograma con 5000 shots\")\n"
   ]
  },
  {
   "cell_type": "markdown",
   "id": "4940024b-f124-418b-9c17-83c951c57aed",
   "metadata": {},
   "source": [
    "### 🧠 Análisis de resultados\n",
    "\n",
    "- Con **solo 10 shots**, el histograma puede variar mucho debido a la **naturaleza probabilística y aleatoria** de la medición cuántica.  \n",
    "  Por ejemplo, podríamos obtener 7 veces \"1\" y solo 3 veces \"0\", lo cual **no representa la verdadera distribución** esperada.  \n",
    "  Esto se debe a que con tan pocas muestras, el **error estadístico es muy alto** y el azar domina el resultado.\n",
    "\n",
    "- Con **5000 shots**, el circuito se ejecuta suficientes veces como para que las **probabilidades reales emerjan**.  \n",
    "  La compuerta Hadamard sobre el estado |0⟩ genera una superposición equitativa entre |0⟩ y |1⟩, es decir, **50% de probabilidad para cada uno**.  \n",
    "  Al repetir la medición miles de veces, el sistema revela su naturaleza probabilística y los resultados convergen hacia ese equilibrio esperado.\n",
    "\n",
    "📌 **¿Por qué pasa esto?**  \n",
    "La computación cuántica **no da resultados deterministas** al medir un qubit en superposición. En su lugar, los resultados son **probabilísticos**.  \n",
    "Por lo tanto, necesitamos **repetir muchas veces** la misma medición (shots) para que las **frecuencias observadas reflejen las verdaderas probabilidades cuánticas**.  \n",
    "Este fenómeno es análogo a lanzar una moneda al aire muchas veces: solo con suficientes lanzamientos podremos decir que realmente es una moneda justa.\n",
    "\n"
   ]
  },
  {
   "cell_type": "markdown",
   "id": "1981f052-2361-495d-b4bf-6e1c868fa8cf",
   "metadata": {},
   "source": [
    "## 📚 Referencias\n",
    "\n",
    "1. M. A. Nielsen y I. L. Chuang, *Quantum Computation and Quantum Information*, 10th Anniversary Edition, Cambridge University Press, 2010.\n",
    "\n",
    "2. IBM Quantum. [Qiskit Documentation](https://docs.qiskit.org) — Documentación oficial de Qiskit. Consultado en agosto de 2025.\n",
    "\n",
    "3. IBM Quantum. [Qiskit Textbook – Chapter 1.3: Quantum Measurement](https://qiskit.org/textbook/ch-states/quantum-measurements.html) — Explicación detallada sobre cómo funcionan las mediciones en sistemas cuánticos.\n",
    "\n",
    "4. Qiskit Contributors. [Learn Quantum Computation using Qiskit](https://qiskit.org/textbook) — Texto oficial y gratuito para aprender computación cuántica con Qiskit.\n",
    "\n",
    "5. T. Hidary, *Quantum Computing: An Applied Approach*, 2nd ed., Springer, 2021.\n",
    "\n",
    "6. R. S. S. Kaur y J. Venegas-Gómez, “Quantum Computing: A Primer for the Software Developer,” *arXiv preprint*, arXiv:2011.12907, 2020. https://arxiv.org/abs/2011.12907\n",
    "\n",
    "7. A. Singh, P. Upadhyaya, S. Sharma, et al., “A Survey on Available Tools and Technologies Enabling Quantum Computing,” *ACM Computing Surveys*, vol. 55, no. 1, pp. 1–38, 2023.\n",
    "\n",
    "8. P. Aiello, M. Felderer, R. Pérez-Castillo, “Quantum Software Engineering: State-of-the-Art, Challenges, and Future Research Agenda,” *Information and Software Technology*, vol. 150, 2022.\n",
    "\n",
    "9. J. D. Weisz, M. Ashoori, Z. Ashktorab, “Entanglion: A Board Game for Teaching the Principles of Quantum Computing,” *CHI EA '21*, ACM, 2021.\n",
    "\n",
    "10. Qiskit Community Tutorials. [Measurements and Classical Bits in Qiskit](https://qiskit.org/documentation/tutorials/circuits/03_measuring_qubits.html) — Tutorial paso a paso sobre cómo implementar y entender mediciones en Qiskit.\n",
    "\n",
    "11. Quantum Country. [Spaced Repetition Guide to Quantum Measurement](https://quantum.country/qcvc) — Una guía interactiva para aprender los fundamentos de la medición en mecánica cuántica.\n"
   ]
  },
  {
   "cell_type": "code",
   "execution_count": null,
   "id": "fa5a62a8-c5b3-4ef9-bd6f-d705770472c6",
   "metadata": {},
   "outputs": [],
   "source": []
  }
 ],
 "metadata": {
  "kernelspec": {
   "display_name": "Python 3 (ipykernel)",
   "language": "python",
   "name": "python3"
  },
  "language_info": {
   "codemirror_mode": {
    "name": "ipython",
    "version": 3
   },
   "file_extension": ".py",
   "mimetype": "text/x-python",
   "name": "python",
   "nbconvert_exporter": "python",
   "pygments_lexer": "ipython3",
   "version": "3.13.6"
  }
 },
 "nbformat": 4,
 "nbformat_minor": 5
}
